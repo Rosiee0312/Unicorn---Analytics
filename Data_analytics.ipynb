{
 "cells": [
  {
   "cell_type": "markdown",
   "metadata": {},
   "source": [
    "### Import"
   ]
  },
  {
   "cell_type": "code",
   "execution_count": 36,
   "metadata": {},
   "outputs": [],
   "source": [
    "%matplotlib inline\n",
    "import matplotlib.pyplot as plt\n",
    "import pandas as pd\n",
    "import numpy as np\n",
    "import seaborn as sns\n",
    "import warnings\n",
    "warnings.filterwarnings(\"ignore\")\n",
    "warnings.simplefilter(action='ignore', category=FutureWarning)"
   ]
  },
  {
   "cell_type": "markdown",
   "metadata": {},
   "source": [
    "### Exploring Data"
   ]
  },
  {
   "cell_type": "markdown",
   "metadata": {},
   "source": [
    "Data of this project include:  \n",
    "- Unicorn company around the world as of August, 2020 (*__CB-Insights_Global-Unicorns_2020.csv__*).  \n",
    "- Indian Startups and Investors (*__starup_funding.csv__*)\n",
    "- Startup fundraising dataset (*__funds.csv__*)\n",
    "\n"
   ]
  },
  {
   "cell_type": "markdown",
   "metadata": {},
   "source": [
    "We will analize distribution of unicorns,the top investors in each fields and the most popular investment trends.  \n",
    "Analyze Indian startups and draw conclusions."
   ]
  },
  {
   "cell_type": "markdown",
   "metadata": {},
   "source": [
    "## Read csv file"
   ]
  },
  {
   "cell_type": "code",
   "execution_count": 2,
   "metadata": {},
   "outputs": [],
   "source": [
    "unicorn_df = pd.read_csv(\"CB-Insights_Global-Unicorns_2020.csv\")\n",
    "startup_df = pd.read_csv(\"startup_funding.csv\")"
   ]
  },
  {
   "cell_type": "markdown",
   "metadata": {},
   "source": [
    "## Data overview"
   ]
  },
  {
   "cell_type": "markdown",
   "metadata": {},
   "source": [
    "### Unicorns data"
   ]
  },
  {
   "cell_type": "code",
   "execution_count": 3,
   "metadata": {},
   "outputs": [
    {
     "data": {
      "text/html": [
       "<div>\n",
       "<style scoped>\n",
       "    .dataframe tbody tr th:only-of-type {\n",
       "        vertical-align: middle;\n",
       "    }\n",
       "\n",
       "    .dataframe tbody tr th {\n",
       "        vertical-align: top;\n",
       "    }\n",
       "\n",
       "    .dataframe thead th {\n",
       "        text-align: right;\n",
       "    }\n",
       "</style>\n",
       "<table border=\"1\" class=\"dataframe\">\n",
       "  <thead>\n",
       "    <tr style=\"text-align: right;\">\n",
       "      <th></th>\n",
       "      <th>Unnamed: 0</th>\n",
       "      <th>Company</th>\n",
       "      <th>Valuation ($B)</th>\n",
       "      <th>Date Joined</th>\n",
       "      <th>Country</th>\n",
       "      <th>Industry</th>\n",
       "      <th>Select Investors</th>\n",
       "    </tr>\n",
       "  </thead>\n",
       "  <tbody>\n",
       "    <tr>\n",
       "      <th>0</th>\n",
       "      <td>0</td>\n",
       "      <td>Toutiao (Bytedance)</td>\n",
       "      <td>$140</td>\n",
       "      <td>4/7/2017</td>\n",
       "      <td>China</td>\n",
       "      <td>Artificial intelligence</td>\n",
       "      <td>Sequoia Capital China, SIG Asia Investments, S...</td>\n",
       "    </tr>\n",
       "    <tr>\n",
       "      <th>1</th>\n",
       "      <td>1</td>\n",
       "      <td>Didi Chuxing</td>\n",
       "      <td>$56</td>\n",
       "      <td>12/31/2014</td>\n",
       "      <td>China</td>\n",
       "      <td>Auto &amp; transportation</td>\n",
       "      <td>Matrix Partners, Tiger  Global Management, Sof...</td>\n",
       "    </tr>\n",
       "    <tr>\n",
       "      <th>2</th>\n",
       "      <td>2</td>\n",
       "      <td>SpaceX</td>\n",
       "      <td>$46</td>\n",
       "      <td>12/1/2012</td>\n",
       "      <td>United States</td>\n",
       "      <td>Other</td>\n",
       "      <td>Founders Fund, Draper  Fisher Jurvetson, Rothe...</td>\n",
       "    </tr>\n",
       "    <tr>\n",
       "      <th>3</th>\n",
       "      <td>3</td>\n",
       "      <td>Stripe</td>\n",
       "      <td>$36</td>\n",
       "      <td>1/23/2014</td>\n",
       "      <td>United States</td>\n",
       "      <td>Fintech</td>\n",
       "      <td>Khosla Ventures, LowercaseCapital, capitalG</td>\n",
       "    </tr>\n",
       "    <tr>\n",
       "      <th>4</th>\n",
       "      <td>4</td>\n",
       "      <td>Palantir Technologies</td>\n",
       "      <td>$20</td>\n",
       "      <td>5/5/2011</td>\n",
       "      <td>United States</td>\n",
       "      <td>Data management &amp; analytics</td>\n",
       "      <td>RRE Ventures, Founders  Fund, In-Q-Tel</td>\n",
       "    </tr>\n",
       "  </tbody>\n",
       "</table>\n",
       "</div>"
      ],
      "text/plain": [
       "   Unnamed: 0                Company Valuation ($B) Date Joined  \\\n",
       "0           0    Toutiao (Bytedance)           $140    4/7/2017   \n",
       "1           1         Didi Chuxing              $56  12/31/2014   \n",
       "2           2                 SpaceX            $46   12/1/2012   \n",
       "3           3                 Stripe            $36   1/23/2014   \n",
       "4           4  Palantir Technologies            $20    5/5/2011   \n",
       "\n",
       "         Country                     Industry  \\\n",
       "0          China      Artificial intelligence   \n",
       "1          China        Auto & transportation   \n",
       "2  United States                        Other   \n",
       "3  United States                      Fintech   \n",
       "4  United States  Data management & analytics   \n",
       "\n",
       "                                    Select Investors  \n",
       "0  Sequoia Capital China, SIG Asia Investments, S...  \n",
       "1  Matrix Partners, Tiger  Global Management, Sof...  \n",
       "2  Founders Fund, Draper  Fisher Jurvetson, Rothe...  \n",
       "3        Khosla Ventures, LowercaseCapital, capitalG  \n",
       "4             RRE Ventures, Founders  Fund, In-Q-Tel  "
      ]
     },
     "execution_count": 3,
     "metadata": {},
     "output_type": "execute_result"
    }
   ],
   "source": [
    "unicorn_df.head()"
   ]
  },
  {
   "cell_type": "code",
   "execution_count": 4,
   "metadata": {},
   "outputs": [
    {
     "name": "stdout",
     "output_type": "stream",
     "text": [
      "<class 'pandas.core.frame.DataFrame'>\n",
      "RangeIndex: 472 entries, 0 to 471\n",
      "Data columns (total 7 columns):\n",
      " #   Column            Non-Null Count  Dtype \n",
      "---  ------            --------------  ----- \n",
      " 0   Unnamed: 0        472 non-null    int64 \n",
      " 1   Company           472 non-null    object\n",
      " 2   Valuation ($B)    472 non-null    object\n",
      " 3   Date Joined       472 non-null    object\n",
      " 4   Country           472 non-null    object\n",
      " 5   Industry          472 non-null    object\n",
      " 6   Select Investors  471 non-null    object\n",
      "dtypes: int64(1), object(6)\n",
      "memory usage: 25.9+ KB\n"
     ]
    }
   ],
   "source": [
    "unicorn_df.info()"
   ]
  },
  {
   "cell_type": "code",
   "execution_count": 5,
   "metadata": {},
   "outputs": [
    {
     "data": {
      "text/plain": [
       "Unnamed: 0          472\n",
       "Company             472\n",
       "Valuation ($B)      117\n",
       "Date Joined         401\n",
       "Country              30\n",
       "Industry             16\n",
       "Select Investors    469\n",
       "dtype: int64"
      ]
     },
     "execution_count": 5,
     "metadata": {},
     "output_type": "execute_result"
    }
   ],
   "source": [
    "unicorn_df.nunique()"
   ]
  },
  {
   "cell_type": "code",
   "execution_count": 6,
   "metadata": {},
   "outputs": [
    {
     "data": {
      "text/plain": [
       "(472, 7)"
      ]
     },
     "execution_count": 6,
     "metadata": {},
     "output_type": "execute_result"
    }
   ],
   "source": [
    "unicorn_df.shape"
   ]
  },
  {
   "cell_type": "code",
   "execution_count": 8,
   "metadata": {},
   "outputs": [
    {
     "name": "stdout",
     "output_type": "stream",
     "text": [
      "NaN\n",
      "Unnamed: 0          0\n",
      "Company             0\n",
      "Valuation ($B)      0\n",
      "Date Joined         0\n",
      "Country             0\n",
      "Industry            0\n",
      "Select Investors    1\n",
      "dtype: int64\n"
     ]
    }
   ],
   "source": [
    "print(\"NaN\")\n",
    "print(unicorn_df.isnull().sum())"
   ]
  },
  {
   "cell_type": "markdown",
   "metadata": {},
   "source": [
    "### Getting to know the variables:  \n",
    "- __Company__: Company's name\n",
    "- __Valuation__: The value of a startup company (billion)  \n",
    "- __Date joined__: Unicorn date  \n",
    "- __Country__: The country where the unicorn is based\n",
    "- __Category__: Company field\n",
    "- __Select__ Investors: Investors for unicorns.\n"
   ]
  },
  {
   "cell_type": "markdown",
   "metadata": {},
   "source": [
    "- Data has 449 rows and 6 columns:  \n",
    "- Only 1 rows contains NaN value in \"Select Investors\" columns.\n",
    "- 449 unicorns is recorgnized as of 1/29/2020.  \n",
    "- 27 countries has unicorns.  \n",
    "- 16 fields is selected and became unicorns.  \n",
    "- The data type of 6 columns is object. But the data type of \"valuation\" columns should be Numerical, \"Date joined\" column should be datetime."
   ]
  },
  {
   "cell_type": "markdown",
   "metadata": {},
   "source": [
    "### Data Preprocessing"
   ]
  },
  {
   "cell_type": "code",
   "execution_count": 11,
   "metadata": {},
   "outputs": [
    {
     "data": {
      "text/html": [
       "<div>\n",
       "<style scoped>\n",
       "    .dataframe tbody tr th:only-of-type {\n",
       "        vertical-align: middle;\n",
       "    }\n",
       "\n",
       "    .dataframe tbody tr th {\n",
       "        vertical-align: top;\n",
       "    }\n",
       "\n",
       "    .dataframe thead th {\n",
       "        text-align: right;\n",
       "    }\n",
       "</style>\n",
       "<table border=\"1\" class=\"dataframe\">\n",
       "  <thead>\n",
       "    <tr style=\"text-align: right;\">\n",
       "      <th></th>\n",
       "      <th>Rank</th>\n",
       "      <th>Company</th>\n",
       "      <th>Valuation ($B)</th>\n",
       "      <th>Date Joined</th>\n",
       "      <th>Country</th>\n",
       "      <th>Industry</th>\n",
       "      <th>Select Investors</th>\n",
       "    </tr>\n",
       "  </thead>\n",
       "  <tbody>\n",
       "    <tr>\n",
       "      <th>0</th>\n",
       "      <td>0</td>\n",
       "      <td>Toutiao (Bytedance)</td>\n",
       "      <td>$140</td>\n",
       "      <td>4/7/2017</td>\n",
       "      <td>China</td>\n",
       "      <td>Artificial intelligence</td>\n",
       "      <td>Sequoia Capital China, SIG Asia Investments, S...</td>\n",
       "    </tr>\n",
       "    <tr>\n",
       "      <th>1</th>\n",
       "      <td>1</td>\n",
       "      <td>Didi Chuxing</td>\n",
       "      <td>$56</td>\n",
       "      <td>12/31/2014</td>\n",
       "      <td>China</td>\n",
       "      <td>Auto &amp; transportation</td>\n",
       "      <td>Matrix Partners, Tiger  Global Management, Sof...</td>\n",
       "    </tr>\n",
       "    <tr>\n",
       "      <th>2</th>\n",
       "      <td>2</td>\n",
       "      <td>SpaceX</td>\n",
       "      <td>$46</td>\n",
       "      <td>12/1/2012</td>\n",
       "      <td>United States</td>\n",
       "      <td>Other</td>\n",
       "      <td>Founders Fund, Draper  Fisher Jurvetson, Rothe...</td>\n",
       "    </tr>\n",
       "    <tr>\n",
       "      <th>3</th>\n",
       "      <td>3</td>\n",
       "      <td>Stripe</td>\n",
       "      <td>$36</td>\n",
       "      <td>1/23/2014</td>\n",
       "      <td>United States</td>\n",
       "      <td>Fintech</td>\n",
       "      <td>Khosla Ventures, LowercaseCapital, capitalG</td>\n",
       "    </tr>\n",
       "    <tr>\n",
       "      <th>4</th>\n",
       "      <td>4</td>\n",
       "      <td>Palantir Technologies</td>\n",
       "      <td>$20</td>\n",
       "      <td>5/5/2011</td>\n",
       "      <td>United States</td>\n",
       "      <td>Data management &amp; analytics</td>\n",
       "      <td>RRE Ventures, Founders  Fund, In-Q-Tel</td>\n",
       "    </tr>\n",
       "  </tbody>\n",
       "</table>\n",
       "</div>"
      ],
      "text/plain": [
       "   Rank                Company Valuation ($B) Date Joined        Country  \\\n",
       "0     0    Toutiao (Bytedance)           $140    4/7/2017          China   \n",
       "1     1         Didi Chuxing              $56  12/31/2014          China   \n",
       "2     2                 SpaceX            $46   12/1/2012  United States   \n",
       "3     3                 Stripe            $36   1/23/2014  United States   \n",
       "4     4  Palantir Technologies            $20    5/5/2011  United States   \n",
       "\n",
       "                      Industry  \\\n",
       "0      Artificial intelligence   \n",
       "1        Auto & transportation   \n",
       "2                        Other   \n",
       "3                      Fintech   \n",
       "4  Data management & analytics   \n",
       "\n",
       "                                    Select Investors  \n",
       "0  Sequoia Capital China, SIG Asia Investments, S...  \n",
       "1  Matrix Partners, Tiger  Global Management, Sof...  \n",
       "2  Founders Fund, Draper  Fisher Jurvetson, Rothe...  \n",
       "3        Khosla Ventures, LowercaseCapital, capitalG  \n",
       "4             RRE Ventures, Founders  Fund, In-Q-Tel  "
      ]
     },
     "execution_count": 11,
     "metadata": {},
     "output_type": "execute_result"
    }
   ],
   "source": [
    "unicorn_df= unicorn_df.rename(columns = {'Unnamed': 'Rank'})\n",
    "unicorn_df.head()"
   ]
  },
  {
   "cell_type": "markdown",
   "metadata": {},
   "source": [
    "###  Valuadation columns  \n",
    "- Deleted '$' and convert to numerical"
   ]
  },
  {
   "cell_type": "code",
   "execution_count": 12,
   "metadata": {},
   "outputs": [],
   "source": [
    "unicorn_df = unicorn_df.replace('\\$', '', regex=True)\n",
    "unicorn_df[\"Valuation ($B)\"] = unicorn_df[\"Valuation ($B)\"].astype(float)"
   ]
  },
  {
   "cell_type": "code",
   "execution_count": 16,
   "metadata": {},
   "outputs": [
    {
     "data": {
      "text/plain": [
       "count    472.000000\n",
       "mean       3.155805\n",
       "std        7.800915\n",
       "min        1.000000\n",
       "25%        1.000000\n",
       "50%        1.500000\n",
       "75%        2.800000\n",
       "max      140.000000\n",
       "Name: Valuation ($B), dtype: float64"
      ]
     },
     "execution_count": 16,
     "metadata": {},
     "output_type": "execute_result"
    }
   ],
   "source": [
    "unicorn_df[\"Valuation ($B)\"].describe()"
   ]
  },
  {
   "cell_type": "markdown",
   "metadata": {},
   "source": [
    "### Date joined column  \n",
    "- Converted to datetime"
   ]
  },
  {
   "cell_type": "code",
   "execution_count": 37,
   "metadata": {},
   "outputs": [
    {
     "data": {
      "text/plain": [
       "count                     472\n",
       "unique                    397\n",
       "top       2018-11-13 00:00:00\n",
       "freq                        4\n",
       "first     2010-12-14 00:00:00\n",
       "last      2020-08-14 00:00:00\n",
       "Name: Date Joined, dtype: object"
      ]
     },
     "execution_count": 37,
     "metadata": {},
     "output_type": "execute_result"
    }
   ],
   "source": [
    "unicorn_df['Date Joined'] = pd.to_datetime(unicorn_df['Date Joined'])\n",
    "unicorn_df['Date Joined'].describe()"
   ]
  },
  {
   "cell_type": "markdown",
   "metadata": {},
   "source": [
    "### Data after preprocessing"
   ]
  },
  {
   "cell_type": "code",
   "execution_count": 38,
   "metadata": {},
   "outputs": [
    {
     "name": "stdout",
     "output_type": "stream",
     "text": [
      "<class 'pandas.core.frame.DataFrame'>\n",
      "RangeIndex: 472 entries, 0 to 471\n",
      "Data columns (total 7 columns):\n",
      " #   Column            Non-Null Count  Dtype         \n",
      "---  ------            --------------  -----         \n",
      " 0   Rank              472 non-null    int64         \n",
      " 1   Company           472 non-null    object        \n",
      " 2   Valuation ($B)    472 non-null    float64       \n",
      " 3   Date Joined       472 non-null    datetime64[ns]\n",
      " 4   Country           472 non-null    object        \n",
      " 5   Industry          472 non-null    object        \n",
      " 6   Select Investors  471 non-null    object        \n",
      "dtypes: datetime64[ns](1), float64(1), int64(1), object(4)\n",
      "memory usage: 25.9+ KB\n"
     ]
    }
   ],
   "source": [
    "unicorn_df.info()"
   ]
  },
  {
   "cell_type": "code",
   "execution_count": 19,
   "metadata": {},
   "outputs": [
    {
     "data": {
      "text/html": [
       "<div>\n",
       "<style scoped>\n",
       "    .dataframe tbody tr th:only-of-type {\n",
       "        vertical-align: middle;\n",
       "    }\n",
       "\n",
       "    .dataframe tbody tr th {\n",
       "        vertical-align: top;\n",
       "    }\n",
       "\n",
       "    .dataframe thead th {\n",
       "        text-align: right;\n",
       "    }\n",
       "</style>\n",
       "<table border=\"1\" class=\"dataframe\">\n",
       "  <thead>\n",
       "    <tr style=\"text-align: right;\">\n",
       "      <th></th>\n",
       "      <th>Rank</th>\n",
       "      <th>Company</th>\n",
       "      <th>Valuation ($B)</th>\n",
       "      <th>Date Joined</th>\n",
       "      <th>Country</th>\n",
       "      <th>Industry</th>\n",
       "      <th>Select Investors</th>\n",
       "    </tr>\n",
       "  </thead>\n",
       "  <tbody>\n",
       "    <tr>\n",
       "      <th>0</th>\n",
       "      <td>0</td>\n",
       "      <td>Toutiao (Bytedance)</td>\n",
       "      <td>140.0</td>\n",
       "      <td>2017-04-07</td>\n",
       "      <td>China</td>\n",
       "      <td>Artificial intelligence</td>\n",
       "      <td>Sequoia Capital China, SIG Asia Investments, S...</td>\n",
       "    </tr>\n",
       "    <tr>\n",
       "      <th>1</th>\n",
       "      <td>1</td>\n",
       "      <td>Didi Chuxing</td>\n",
       "      <td>56.0</td>\n",
       "      <td>2014-12-31</td>\n",
       "      <td>China</td>\n",
       "      <td>Auto &amp; transportation</td>\n",
       "      <td>Matrix Partners, Tiger  Global Management, Sof...</td>\n",
       "    </tr>\n",
       "    <tr>\n",
       "      <th>2</th>\n",
       "      <td>2</td>\n",
       "      <td>SpaceX</td>\n",
       "      <td>46.0</td>\n",
       "      <td>2012-12-01</td>\n",
       "      <td>United States</td>\n",
       "      <td>Other</td>\n",
       "      <td>Founders Fund, Draper  Fisher Jurvetson, Rothe...</td>\n",
       "    </tr>\n",
       "    <tr>\n",
       "      <th>3</th>\n",
       "      <td>3</td>\n",
       "      <td>Stripe</td>\n",
       "      <td>36.0</td>\n",
       "      <td>2014-01-23</td>\n",
       "      <td>United States</td>\n",
       "      <td>Fintech</td>\n",
       "      <td>Khosla Ventures, LowercaseCapital, capitalG</td>\n",
       "    </tr>\n",
       "    <tr>\n",
       "      <th>4</th>\n",
       "      <td>4</td>\n",
       "      <td>Palantir Technologies</td>\n",
       "      <td>20.0</td>\n",
       "      <td>2011-05-05</td>\n",
       "      <td>United States</td>\n",
       "      <td>Data management &amp; analytics</td>\n",
       "      <td>RRE Ventures, Founders  Fund, In-Q-Tel</td>\n",
       "    </tr>\n",
       "  </tbody>\n",
       "</table>\n",
       "</div>"
      ],
      "text/plain": [
       "   Rank                Company  Valuation ($B) Date Joined        Country  \\\n",
       "0     0    Toutiao (Bytedance)           140.0  2017-04-07          China   \n",
       "1     1         Didi Chuxing              56.0  2014-12-31          China   \n",
       "2     2                 SpaceX            46.0  2012-12-01  United States   \n",
       "3     3                 Stripe            36.0  2014-01-23  United States   \n",
       "4     4  Palantir Technologies            20.0  2011-05-05  United States   \n",
       "\n",
       "                      Industry  \\\n",
       "0      Artificial intelligence   \n",
       "1        Auto & transportation   \n",
       "2                        Other   \n",
       "3                      Fintech   \n",
       "4  Data management & analytics   \n",
       "\n",
       "                                    Select Investors  \n",
       "0  Sequoia Capital China, SIG Asia Investments, S...  \n",
       "1  Matrix Partners, Tiger  Global Management, Sof...  \n",
       "2  Founders Fund, Draper  Fisher Jurvetson, Rothe...  \n",
       "3        Khosla Ventures, LowercaseCapital, capitalG  \n",
       "4             RRE Ventures, Founders  Fund, In-Q-Tel  "
      ]
     },
     "execution_count": 19,
     "metadata": {},
     "output_type": "execute_result"
    }
   ],
   "source": [
    "unicorn_df.head()"
   ]
  },
  {
   "cell_type": "markdown",
   "metadata": {},
   "source": [
    "## Indian Startups Data"
   ]
  },
  {
   "cell_type": "markdown",
   "metadata": {},
   "source": [
    "### Meaning of data"
   ]
  },
  {
   "cell_type": "code",
   "execution_count": 20,
   "metadata": {},
   "outputs": [
    {
     "data": {
      "text/html": [
       "<div>\n",
       "<style scoped>\n",
       "    .dataframe tbody tr th:only-of-type {\n",
       "        vertical-align: middle;\n",
       "    }\n",
       "\n",
       "    .dataframe tbody tr th {\n",
       "        vertical-align: top;\n",
       "    }\n",
       "\n",
       "    .dataframe thead th {\n",
       "        text-align: right;\n",
       "    }\n",
       "</style>\n",
       "<table border=\"1\" class=\"dataframe\">\n",
       "  <thead>\n",
       "    <tr style=\"text-align: right;\">\n",
       "      <th></th>\n",
       "      <th>Sr No</th>\n",
       "      <th>Date dd/mm/yyyy</th>\n",
       "      <th>Startup Name</th>\n",
       "      <th>Industry Vertical</th>\n",
       "      <th>SubVertical</th>\n",
       "      <th>City  Location</th>\n",
       "      <th>Investors Name</th>\n",
       "      <th>InvestmentnType</th>\n",
       "      <th>Amount in USD</th>\n",
       "      <th>Remarks</th>\n",
       "    </tr>\n",
       "  </thead>\n",
       "  <tbody>\n",
       "    <tr>\n",
       "      <th>0</th>\n",
       "      <td>1</td>\n",
       "      <td>09/01/2020</td>\n",
       "      <td>BYJU’S</td>\n",
       "      <td>E-Tech</td>\n",
       "      <td>E-learning</td>\n",
       "      <td>Bengaluru</td>\n",
       "      <td>Tiger Global Management</td>\n",
       "      <td>Private Equity Round</td>\n",
       "      <td>20,00,00,000</td>\n",
       "      <td>NaN</td>\n",
       "    </tr>\n",
       "    <tr>\n",
       "      <th>1</th>\n",
       "      <td>2</td>\n",
       "      <td>13/01/2020</td>\n",
       "      <td>Shuttl</td>\n",
       "      <td>Transportation</td>\n",
       "      <td>App based shuttle service</td>\n",
       "      <td>Gurgaon</td>\n",
       "      <td>Susquehanna Growth Equity</td>\n",
       "      <td>Series C</td>\n",
       "      <td>80,48,394</td>\n",
       "      <td>NaN</td>\n",
       "    </tr>\n",
       "    <tr>\n",
       "      <th>2</th>\n",
       "      <td>3</td>\n",
       "      <td>09/01/2020</td>\n",
       "      <td>Mamaearth</td>\n",
       "      <td>E-commerce</td>\n",
       "      <td>Retailer of baby and toddler products</td>\n",
       "      <td>Bengaluru</td>\n",
       "      <td>Sequoia Capital India</td>\n",
       "      <td>Series B</td>\n",
       "      <td>1,83,58,860</td>\n",
       "      <td>NaN</td>\n",
       "    </tr>\n",
       "    <tr>\n",
       "      <th>3</th>\n",
       "      <td>4</td>\n",
       "      <td>02/01/2020</td>\n",
       "      <td>https://www.wealthbucket.in/</td>\n",
       "      <td>FinTech</td>\n",
       "      <td>Online Investment</td>\n",
       "      <td>New Delhi</td>\n",
       "      <td>Vinod Khatumal</td>\n",
       "      <td>Pre-series A</td>\n",
       "      <td>30,00,000</td>\n",
       "      <td>NaN</td>\n",
       "    </tr>\n",
       "    <tr>\n",
       "      <th>4</th>\n",
       "      <td>5</td>\n",
       "      <td>02/01/2020</td>\n",
       "      <td>Fashor</td>\n",
       "      <td>Fashion and Apparel</td>\n",
       "      <td>Embroiled Clothes For Women</td>\n",
       "      <td>Mumbai</td>\n",
       "      <td>Sprout Venture Partners</td>\n",
       "      <td>Seed Round</td>\n",
       "      <td>18,00,000</td>\n",
       "      <td>NaN</td>\n",
       "    </tr>\n",
       "  </tbody>\n",
       "</table>\n",
       "</div>"
      ],
      "text/plain": [
       "   Sr No Date dd/mm/yyyy                  Startup Name    Industry Vertical  \\\n",
       "0      1      09/01/2020                        BYJU’S               E-Tech   \n",
       "1      2      13/01/2020                        Shuttl       Transportation   \n",
       "2      3      09/01/2020                     Mamaearth           E-commerce   \n",
       "3      4      02/01/2020  https://www.wealthbucket.in/              FinTech   \n",
       "4      5      02/01/2020                        Fashor  Fashion and Apparel   \n",
       "\n",
       "                             SubVertical City  Location  \\\n",
       "0                             E-learning      Bengaluru   \n",
       "1              App based shuttle service        Gurgaon   \n",
       "2  Retailer of baby and toddler products      Bengaluru   \n",
       "3                      Online Investment      New Delhi   \n",
       "4            Embroiled Clothes For Women         Mumbai   \n",
       "\n",
       "              Investors Name       InvestmentnType Amount in USD Remarks  \n",
       "0    Tiger Global Management  Private Equity Round  20,00,00,000     NaN  \n",
       "1  Susquehanna Growth Equity              Series C     80,48,394     NaN  \n",
       "2      Sequoia Capital India              Series B   1,83,58,860     NaN  \n",
       "3             Vinod Khatumal          Pre-series A     30,00,000     NaN  \n",
       "4    Sprout Venture Partners            Seed Round     18,00,000     NaN  "
      ]
     },
     "execution_count": 20,
     "metadata": {},
     "output_type": "execute_result"
    }
   ],
   "source": [
    "startup_df.head()"
   ]
  },
  {
   "cell_type": "code",
   "execution_count": 21,
   "metadata": {},
   "outputs": [
    {
     "name": "stdout",
     "output_type": "stream",
     "text": [
      "<class 'pandas.core.frame.DataFrame'>\n",
      "RangeIndex: 3044 entries, 0 to 3043\n",
      "Data columns (total 10 columns):\n",
      " #   Column             Non-Null Count  Dtype \n",
      "---  ------             --------------  ----- \n",
      " 0   Sr No              3044 non-null   int64 \n",
      " 1   Date dd/mm/yyyy    3044 non-null   object\n",
      " 2   Startup Name       3044 non-null   object\n",
      " 3   Industry Vertical  2873 non-null   object\n",
      " 4   SubVertical        2108 non-null   object\n",
      " 5   City  Location     2864 non-null   object\n",
      " 6   Investors Name     3020 non-null   object\n",
      " 7   InvestmentnType    3040 non-null   object\n",
      " 8   Amount in USD      2084 non-null   object\n",
      " 9   Remarks            419 non-null    object\n",
      "dtypes: int64(1), object(9)\n",
      "memory usage: 237.9+ KB\n"
     ]
    }
   ],
   "source": [
    "startup_df.info()"
   ]
  },
  {
   "cell_type": "code",
   "execution_count": 22,
   "metadata": {},
   "outputs": [
    {
     "data": {
      "text/plain": [
       "Sr No                3044\n",
       "Date dd/mm/yyyy      1035\n",
       "Startup Name         2459\n",
       "Industry Vertical     821\n",
       "SubVertical          1942\n",
       "City  Location        112\n",
       "Investors Name       2412\n",
       "InvestmentnType        55\n",
       "Amount in USD         471\n",
       "Remarks                72\n",
       "dtype: int64"
      ]
     },
     "execution_count": 22,
     "metadata": {},
     "output_type": "execute_result"
    }
   ],
   "source": [
    "startup_df.nunique()"
   ]
  },
  {
   "cell_type": "code",
   "execution_count": 23,
   "metadata": {},
   "outputs": [
    {
     "name": "stdout",
     "output_type": "stream",
     "text": [
      "NaN\n",
      "Sr No                   0\n",
      "Date dd/mm/yyyy         0\n",
      "Startup Name            0\n",
      "Industry Vertical     171\n",
      "SubVertical           936\n",
      "City  Location        180\n",
      "Investors Name         24\n",
      "InvestmentnType         4\n",
      "Amount in USD         960\n",
      "Remarks              2625\n",
      "dtype: int64\n"
     ]
    }
   ],
   "source": [
    "print(\"NaN\")\n",
    "print(startup_df.isnull().sum())"
   ]
  },
  {
   "cell_type": "code",
   "execution_count": 24,
   "metadata": {},
   "outputs": [
    {
     "data": {
      "text/plain": [
       "(3044, 10)"
      ]
     },
     "execution_count": 24,
     "metadata": {},
     "output_type": "execute_result"
    }
   ],
   "source": [
    "startup_df.shape"
   ]
  },
  {
   "cell_type": "code",
   "execution_count": 32,
   "metadata": {},
   "outputs": [],
   "source": [
    "startup_df = startup_df.drop('Remarks', axis=1)"
   ]
  },
  {
   "cell_type": "markdown",
   "metadata": {},
   "source": [
    "### Getting to know the variables:  \n",
    "- __Date__: Date of investment  \n",
    "- __Startup__ Name: Company name  \n",
    "- __Industry Vertical__: Main Business field of company  \n",
    "- __SubVertical__: Sub business field of company  \n",
    "- __City Location__: The city where the company's headquarters is located  \n",
    "- __Investors Name__: Investors name  \n",
    "- __Investors Type__: Type of investment  \n",
    "- __Amount in USD__: Total amount invested"
   ]
  },
  {
   "cell_type": "markdown",
   "metadata": {},
   "source": [
    "## Data Preprocessing"
   ]
  },
  {
   "cell_type": "markdown",
   "metadata": {},
   "source": [
    "__Date column__  \n",
    "- Covert to datetime  \n",
    "Find and replace invalid date in Date columns (dd/mm/yyyy) to valid date."
   ]
  },
  {
   "cell_type": "code",
   "execution_count": 40,
   "metadata": {},
   "outputs": [
    {
     "data": {
      "text/html": [
       "<div>\n",
       "<style scoped>\n",
       "    .dataframe tbody tr th:only-of-type {\n",
       "        vertical-align: middle;\n",
       "    }\n",
       "\n",
       "    .dataframe tbody tr th {\n",
       "        vertical-align: top;\n",
       "    }\n",
       "\n",
       "    .dataframe thead th {\n",
       "        text-align: right;\n",
       "    }\n",
       "</style>\n",
       "<table border=\"1\" class=\"dataframe\">\n",
       "  <thead>\n",
       "    <tr style=\"text-align: right;\">\n",
       "      <th></th>\n",
       "      <th>Date</th>\n",
       "      <th>correct</th>\n",
       "    </tr>\n",
       "  </thead>\n",
       "  <tbody>\n",
       "    <tr>\n",
       "      <th>0</th>\n",
       "      <td>09/01/2020</td>\n",
       "      <td>2020-09-01</td>\n",
       "    </tr>\n",
       "    <tr>\n",
       "      <th>1</th>\n",
       "      <td>13/01/2020</td>\n",
       "      <td>2020-01-13</td>\n",
       "    </tr>\n",
       "    <tr>\n",
       "      <th>2</th>\n",
       "      <td>09/01/2020</td>\n",
       "      <td>2020-09-01</td>\n",
       "    </tr>\n",
       "    <tr>\n",
       "      <th>3</th>\n",
       "      <td>02/01/2020</td>\n",
       "      <td>2020-02-01</td>\n",
       "    </tr>\n",
       "    <tr>\n",
       "      <th>4</th>\n",
       "      <td>02/01/2020</td>\n",
       "      <td>2020-02-01</td>\n",
       "    </tr>\n",
       "    <tr>\n",
       "      <th>...</th>\n",
       "      <td>...</td>\n",
       "      <td>...</td>\n",
       "    </tr>\n",
       "    <tr>\n",
       "      <th>3039</th>\n",
       "      <td>29/01/2015</td>\n",
       "      <td>2015-01-29</td>\n",
       "    </tr>\n",
       "    <tr>\n",
       "      <th>3040</th>\n",
       "      <td>29/01/2015</td>\n",
       "      <td>2015-01-29</td>\n",
       "    </tr>\n",
       "    <tr>\n",
       "      <th>3041</th>\n",
       "      <td>30/01/2015</td>\n",
       "      <td>2015-01-30</td>\n",
       "    </tr>\n",
       "    <tr>\n",
       "      <th>3042</th>\n",
       "      <td>30/01/2015</td>\n",
       "      <td>2015-01-30</td>\n",
       "    </tr>\n",
       "    <tr>\n",
       "      <th>3043</th>\n",
       "      <td>31/01/2015</td>\n",
       "      <td>2015-01-31</td>\n",
       "    </tr>\n",
       "  </tbody>\n",
       "</table>\n",
       "<p>3044 rows × 2 columns</p>\n",
       "</div>"
      ],
      "text/plain": [
       "            Date    correct\n",
       "0     09/01/2020 2020-09-01\n",
       "1     13/01/2020 2020-01-13\n",
       "2     09/01/2020 2020-09-01\n",
       "3     02/01/2020 2020-02-01\n",
       "4     02/01/2020 2020-02-01\n",
       "...          ...        ...\n",
       "3039  29/01/2015 2015-01-29\n",
       "3040  29/01/2015 2015-01-29\n",
       "3041  30/01/2015 2015-01-30\n",
       "3042  30/01/2015 2015-01-30\n",
       "3043  31/01/2015 2015-01-31\n",
       "\n",
       "[3044 rows x 2 columns]"
      ]
     },
     "execution_count": 40,
     "metadata": {},
     "output_type": "execute_result"
    }
   ],
   "source": [
    "data = startup_df['Date dd/mm/yyyy'].values\n",
    "\n",
    "# Create dataframe\n",
    "df = pd.DataFrame({'Date': data})\n",
    "\n",
    "# Add 'corect' column to evalue 'Date' column corect or not\n",
    "df['correct'] = pd.to_datetime(df['Date'],errors='coerce') #If 'coerce', then invalid parsing will be set as NaT.\n",
    "df"
   ]
  },
  {
   "cell_type": "code",
   "execution_count": 42,
   "metadata": {},
   "outputs": [
    {
     "data": {
      "text/plain": [
       "['05/072018', '01/07/015', '\\\\\\\\xc2\\\\\\\\xa010/7/2015', '22/01//2015']"
      ]
     },
     "execution_count": 42,
     "metadata": {},
     "output_type": "execute_result"
    }
   ],
   "source": [
    "#Invalid value list\n",
    "errors = df.loc[df['correct'].isnull()]['Date'].tolist()\n",
    "errors"
   ]
  },
  {
   "cell_type": "code",
   "execution_count": 43,
   "metadata": {},
   "outputs": [],
   "source": [
    "startup_df['Date dd/mm/yyyy'].replace((['05/072018', '01/07/015', '\\\\\\\\xc2\\\\\\\\xa010/7/2015', '22/01//2015']),\n",
    "                                        ('05/07/2018', '01/07/2015', '22/01/2015', '10/07/2015'), inplace=True)"
   ]
  },
  {
   "cell_type": "code",
   "execution_count": 45,
   "metadata": {},
   "outputs": [],
   "source": [
    "startup_df['Date dd/mm/yyyy'] = pd.to_datetime(startup_df['Date dd/mm/yyyy'])"
   ]
  },
  {
   "cell_type": "code",
   "execution_count": 46,
   "metadata": {},
   "outputs": [
    {
     "data": {
      "text/plain": [
       "count                    3044\n",
       "unique                   1030\n",
       "top       2015-08-07 00:00:00\n",
       "freq                       11\n",
       "first     2015-01-05 00:00:00\n",
       "last      2020-10-01 00:00:00\n",
       "Name: Date dd/mm/yyyy, dtype: object"
      ]
     },
     "execution_count": 46,
     "metadata": {},
     "output_type": "execute_result"
    }
   ],
   "source": [
    "startup_df['Date dd/mm/yyyy'].describe()"
   ]
  },
  {
   "cell_type": "markdown",
   "metadata": {},
   "source": [
    "As we can see:  \n",
    "- We have 3044 rows, only 1030 unique values.  \n",
    "- Successful fundraising rounds from 01/05/2015 to 10/01/2020"
   ]
  },
  {
   "cell_type": "markdown",
   "metadata": {},
   "source": [
    "__Amount in USD column__"
   ]
  },
  {
   "cell_type": "markdown",
   "metadata": {},
   "source": [
    "- Convert to float, handle invalid data   "
   ]
  },
  {
   "cell_type": "code",
   "execution_count": 48,
   "metadata": {},
   "outputs": [],
   "source": [
    "startup_df['Amount in USD'] = startup_df[\"Amount in USD\"].replace(\",\", \"\")\n",
    "startup_df['Amount in USD'] = startup_df[\"Amount in USD\"].replace(\"+\", \"\")"
   ]
  },
  {
   "cell_type": "code",
   "execution_count": 51,
   "metadata": {},
   "outputs": [],
   "source": [
    "startup_df['Amount in USD'] = startup_df['Amount in USD'].apply(lambda x: str(str(x).replace(\",\", \"\").replace(\"+\", \"\")))"
   ]
  },
  {
   "cell_type": "code",
   "execution_count": 52,
   "metadata": {},
   "outputs": [],
   "source": [
    "startup_df = startup_df.replace('\\\\\\\\\\\\\\\\xc2\\\\\\\\\\\\\\\\xa0','', regex=True)"
   ]
  },
  {
   "cell_type": "code",
   "execution_count": 53,
   "metadata": {},
   "outputs": [],
   "source": [
    "startup_df['Amount in USD'].replace((['undisclosed', 'unknown','Undisclosed', 'N/A']),\n",
    "                         ('NaN','NaN','NaN','NaN'), inplace=True)"
   ]
  },
  {
   "cell_type": "code",
   "execution_count": 54,
   "metadata": {},
   "outputs": [],
   "source": [
    "startup_df['Amount in USD'] = startup_df['Amount in USD'].apply(lambda x: float(x))"
   ]
  },
  {
   "cell_type": "code",
   "execution_count": 55,
   "metadata": {},
   "outputs": [
    {
     "data": {
      "text/plain": [
       "count    2.073000e+03\n",
       "mean     1.840034e+07\n",
       "std      1.211407e+08\n",
       "min      1.600000e+04\n",
       "25%      4.860000e+05\n",
       "50%      1.750000e+06\n",
       "75%      8.000000e+06\n",
       "max      3.900000e+09\n",
       "Name: Amount in USD, dtype: float64"
      ]
     },
     "execution_count": 55,
     "metadata": {},
     "output_type": "execute_result"
    }
   ],
   "source": [
    "startup_df['Amount in USD'].describe()"
   ]
  },
  {
   "cell_type": "markdown",
   "metadata": {},
   "source": [
    "### Data after preprocessing"
   ]
  },
  {
   "cell_type": "code",
   "execution_count": 56,
   "metadata": {},
   "outputs": [
    {
     "name": "stdout",
     "output_type": "stream",
     "text": [
      "<class 'pandas.core.frame.DataFrame'>\n",
      "RangeIndex: 3044 entries, 0 to 3043\n",
      "Data columns (total 9 columns):\n",
      " #   Column             Non-Null Count  Dtype         \n",
      "---  ------             --------------  -----         \n",
      " 0   Sr No              3044 non-null   int64         \n",
      " 1   Date dd/mm/yyyy    3044 non-null   datetime64[ns]\n",
      " 2   Startup Name       3044 non-null   object        \n",
      " 3   Industry Vertical  2873 non-null   object        \n",
      " 4   SubVertical        2108 non-null   object        \n",
      " 5   City  Location     2864 non-null   object        \n",
      " 6   Investors Name     3020 non-null   object        \n",
      " 7   InvestmentnType    3040 non-null   object        \n",
      " 8   Amount in USD      2073 non-null   float64       \n",
      "dtypes: datetime64[ns](1), float64(1), int64(1), object(6)\n",
      "memory usage: 214.2+ KB\n"
     ]
    }
   ],
   "source": [
    "startup_df.info()"
   ]
  },
  {
   "cell_type": "code",
   "execution_count": 57,
   "metadata": {},
   "outputs": [
    {
     "data": {
      "text/html": [
       "<div>\n",
       "<style scoped>\n",
       "    .dataframe tbody tr th:only-of-type {\n",
       "        vertical-align: middle;\n",
       "    }\n",
       "\n",
       "    .dataframe tbody tr th {\n",
       "        vertical-align: top;\n",
       "    }\n",
       "\n",
       "    .dataframe thead th {\n",
       "        text-align: right;\n",
       "    }\n",
       "</style>\n",
       "<table border=\"1\" class=\"dataframe\">\n",
       "  <thead>\n",
       "    <tr style=\"text-align: right;\">\n",
       "      <th></th>\n",
       "      <th>Sr No</th>\n",
       "      <th>Date dd/mm/yyyy</th>\n",
       "      <th>Startup Name</th>\n",
       "      <th>Industry Vertical</th>\n",
       "      <th>SubVertical</th>\n",
       "      <th>City  Location</th>\n",
       "      <th>Investors Name</th>\n",
       "      <th>InvestmentnType</th>\n",
       "      <th>Amount in USD</th>\n",
       "    </tr>\n",
       "  </thead>\n",
       "  <tbody>\n",
       "    <tr>\n",
       "      <th>0</th>\n",
       "      <td>1</td>\n",
       "      <td>2020-09-01</td>\n",
       "      <td>BYJU’S</td>\n",
       "      <td>E-Tech</td>\n",
       "      <td>E-learning</td>\n",
       "      <td>Bengaluru</td>\n",
       "      <td>Tiger Global Management</td>\n",
       "      <td>Private Equity Round</td>\n",
       "      <td>200000000.0</td>\n",
       "    </tr>\n",
       "    <tr>\n",
       "      <th>1</th>\n",
       "      <td>2</td>\n",
       "      <td>2020-01-13</td>\n",
       "      <td>Shuttl</td>\n",
       "      <td>Transportation</td>\n",
       "      <td>App based shuttle service</td>\n",
       "      <td>Gurgaon</td>\n",
       "      <td>Susquehanna Growth Equity</td>\n",
       "      <td>Series C</td>\n",
       "      <td>8048394.0</td>\n",
       "    </tr>\n",
       "    <tr>\n",
       "      <th>2</th>\n",
       "      <td>3</td>\n",
       "      <td>2020-09-01</td>\n",
       "      <td>Mamaearth</td>\n",
       "      <td>E-commerce</td>\n",
       "      <td>Retailer of baby and toddler products</td>\n",
       "      <td>Bengaluru</td>\n",
       "      <td>Sequoia Capital India</td>\n",
       "      <td>Series B</td>\n",
       "      <td>18358860.0</td>\n",
       "    </tr>\n",
       "    <tr>\n",
       "      <th>3</th>\n",
       "      <td>4</td>\n",
       "      <td>2020-02-01</td>\n",
       "      <td>https://www.wealthbucket.in/</td>\n",
       "      <td>FinTech</td>\n",
       "      <td>Online Investment</td>\n",
       "      <td>New Delhi</td>\n",
       "      <td>Vinod Khatumal</td>\n",
       "      <td>Pre-series A</td>\n",
       "      <td>3000000.0</td>\n",
       "    </tr>\n",
       "    <tr>\n",
       "      <th>4</th>\n",
       "      <td>5</td>\n",
       "      <td>2020-02-01</td>\n",
       "      <td>Fashor</td>\n",
       "      <td>Fashion and Apparel</td>\n",
       "      <td>Embroiled Clothes For Women</td>\n",
       "      <td>Mumbai</td>\n",
       "      <td>Sprout Venture Partners</td>\n",
       "      <td>Seed Round</td>\n",
       "      <td>1800000.0</td>\n",
       "    </tr>\n",
       "  </tbody>\n",
       "</table>\n",
       "</div>"
      ],
      "text/plain": [
       "   Sr No Date dd/mm/yyyy                  Startup Name    Industry Vertical  \\\n",
       "0      1      2020-09-01                        BYJU’S               E-Tech   \n",
       "1      2      2020-01-13                        Shuttl       Transportation   \n",
       "2      3      2020-09-01                     Mamaearth           E-commerce   \n",
       "3      4      2020-02-01  https://www.wealthbucket.in/              FinTech   \n",
       "4      5      2020-02-01                        Fashor  Fashion and Apparel   \n",
       "\n",
       "                             SubVertical City  Location  \\\n",
       "0                             E-learning      Bengaluru   \n",
       "1              App based shuttle service        Gurgaon   \n",
       "2  Retailer of baby and toddler products      Bengaluru   \n",
       "3                      Online Investment      New Delhi   \n",
       "4            Embroiled Clothes For Women         Mumbai   \n",
       "\n",
       "              Investors Name       InvestmentnType  Amount in USD  \n",
       "0    Tiger Global Management  Private Equity Round    200000000.0  \n",
       "1  Susquehanna Growth Equity              Series C      8048394.0  \n",
       "2      Sequoia Capital India              Series B     18358860.0  \n",
       "3             Vinod Khatumal          Pre-series A      3000000.0  \n",
       "4    Sprout Venture Partners            Seed Round      1800000.0  "
      ]
     },
     "execution_count": 57,
     "metadata": {},
     "output_type": "execute_result"
    }
   ],
   "source": [
    "startup_df.head()"
   ]
  },
  {
   "cell_type": "markdown",
   "metadata": {},
   "source": [
    "## Exploring Data"
   ]
  },
  {
   "cell_type": "markdown",
   "metadata": {},
   "source": [
    "### Review Data"
   ]
  },
  {
   "cell_type": "code",
   "execution_count": 58,
   "metadata": {},
   "outputs": [
    {
     "data": {
      "text/html": [
       "<div>\n",
       "<style scoped>\n",
       "    .dataframe tbody tr th:only-of-type {\n",
       "        vertical-align: middle;\n",
       "    }\n",
       "\n",
       "    .dataframe tbody tr th {\n",
       "        vertical-align: top;\n",
       "    }\n",
       "\n",
       "    .dataframe thead th {\n",
       "        text-align: right;\n",
       "    }\n",
       "</style>\n",
       "<table border=\"1\" class=\"dataframe\">\n",
       "  <thead>\n",
       "    <tr style=\"text-align: right;\">\n",
       "      <th></th>\n",
       "      <th>Rank</th>\n",
       "      <th>Company</th>\n",
       "      <th>Valuation ($B)</th>\n",
       "      <th>Date Joined</th>\n",
       "      <th>Country</th>\n",
       "      <th>Industry</th>\n",
       "      <th>Select Investors</th>\n",
       "    </tr>\n",
       "  </thead>\n",
       "  <tbody>\n",
       "    <tr>\n",
       "      <th>0</th>\n",
       "      <td>0</td>\n",
       "      <td>Toutiao (Bytedance)</td>\n",
       "      <td>140.0</td>\n",
       "      <td>2017-04-07</td>\n",
       "      <td>China</td>\n",
       "      <td>Artificial intelligence</td>\n",
       "      <td>Sequoia Capital China, SIG Asia Investments, S...</td>\n",
       "    </tr>\n",
       "    <tr>\n",
       "      <th>1</th>\n",
       "      <td>1</td>\n",
       "      <td>Didi Chuxing</td>\n",
       "      <td>56.0</td>\n",
       "      <td>2014-12-31</td>\n",
       "      <td>China</td>\n",
       "      <td>Auto &amp; transportation</td>\n",
       "      <td>Matrix Partners, Tiger  Global Management, Sof...</td>\n",
       "    </tr>\n",
       "    <tr>\n",
       "      <th>2</th>\n",
       "      <td>2</td>\n",
       "      <td>SpaceX</td>\n",
       "      <td>46.0</td>\n",
       "      <td>2012-12-01</td>\n",
       "      <td>United States</td>\n",
       "      <td>Other</td>\n",
       "      <td>Founders Fund, Draper  Fisher Jurvetson, Rothe...</td>\n",
       "    </tr>\n",
       "    <tr>\n",
       "      <th>3</th>\n",
       "      <td>3</td>\n",
       "      <td>Stripe</td>\n",
       "      <td>36.0</td>\n",
       "      <td>2014-01-23</td>\n",
       "      <td>United States</td>\n",
       "      <td>Fintech</td>\n",
       "      <td>Khosla Ventures, LowercaseCapital, capitalG</td>\n",
       "    </tr>\n",
       "    <tr>\n",
       "      <th>4</th>\n",
       "      <td>4</td>\n",
       "      <td>Palantir Technologies</td>\n",
       "      <td>20.0</td>\n",
       "      <td>2011-05-05</td>\n",
       "      <td>United States</td>\n",
       "      <td>Data management &amp; analytics</td>\n",
       "      <td>RRE Ventures, Founders  Fund, In-Q-Tel</td>\n",
       "    </tr>\n",
       "  </tbody>\n",
       "</table>\n",
       "</div>"
      ],
      "text/plain": [
       "   Rank                Company  Valuation ($B) Date Joined        Country  \\\n",
       "0     0    Toutiao (Bytedance)           140.0  2017-04-07          China   \n",
       "1     1         Didi Chuxing              56.0  2014-12-31          China   \n",
       "2     2                 SpaceX            46.0  2012-12-01  United States   \n",
       "3     3                 Stripe            36.0  2014-01-23  United States   \n",
       "4     4  Palantir Technologies            20.0  2011-05-05  United States   \n",
       "\n",
       "                      Industry  \\\n",
       "0      Artificial intelligence   \n",
       "1        Auto & transportation   \n",
       "2                        Other   \n",
       "3                      Fintech   \n",
       "4  Data management & analytics   \n",
       "\n",
       "                                    Select Investors  \n",
       "0  Sequoia Capital China, SIG Asia Investments, S...  \n",
       "1  Matrix Partners, Tiger  Global Management, Sof...  \n",
       "2  Founders Fund, Draper  Fisher Jurvetson, Rothe...  \n",
       "3        Khosla Ventures, LowercaseCapital, capitalG  \n",
       "4             RRE Ventures, Founders  Fund, In-Q-Tel  "
      ]
     },
     "execution_count": 58,
     "metadata": {},
     "output_type": "execute_result"
    }
   ],
   "source": [
    "unicorn_df.head()"
   ]
  },
  {
   "cell_type": "code",
   "execution_count": 59,
   "metadata": {},
   "outputs": [
    {
     "data": {
      "text/html": [
       "<div>\n",
       "<style scoped>\n",
       "    .dataframe tbody tr th:only-of-type {\n",
       "        vertical-align: middle;\n",
       "    }\n",
       "\n",
       "    .dataframe tbody tr th {\n",
       "        vertical-align: top;\n",
       "    }\n",
       "\n",
       "    .dataframe thead th {\n",
       "        text-align: right;\n",
       "    }\n",
       "</style>\n",
       "<table border=\"1\" class=\"dataframe\">\n",
       "  <thead>\n",
       "    <tr style=\"text-align: right;\">\n",
       "      <th></th>\n",
       "      <th>Sr No</th>\n",
       "      <th>Date dd/mm/yyyy</th>\n",
       "      <th>Startup Name</th>\n",
       "      <th>Industry Vertical</th>\n",
       "      <th>SubVertical</th>\n",
       "      <th>City  Location</th>\n",
       "      <th>Investors Name</th>\n",
       "      <th>InvestmentnType</th>\n",
       "      <th>Amount in USD</th>\n",
       "    </tr>\n",
       "  </thead>\n",
       "  <tbody>\n",
       "    <tr>\n",
       "      <th>0</th>\n",
       "      <td>1</td>\n",
       "      <td>2020-09-01</td>\n",
       "      <td>BYJU’S</td>\n",
       "      <td>E-Tech</td>\n",
       "      <td>E-learning</td>\n",
       "      <td>Bengaluru</td>\n",
       "      <td>Tiger Global Management</td>\n",
       "      <td>Private Equity Round</td>\n",
       "      <td>200000000.0</td>\n",
       "    </tr>\n",
       "    <tr>\n",
       "      <th>1</th>\n",
       "      <td>2</td>\n",
       "      <td>2020-01-13</td>\n",
       "      <td>Shuttl</td>\n",
       "      <td>Transportation</td>\n",
       "      <td>App based shuttle service</td>\n",
       "      <td>Gurgaon</td>\n",
       "      <td>Susquehanna Growth Equity</td>\n",
       "      <td>Series C</td>\n",
       "      <td>8048394.0</td>\n",
       "    </tr>\n",
       "    <tr>\n",
       "      <th>2</th>\n",
       "      <td>3</td>\n",
       "      <td>2020-09-01</td>\n",
       "      <td>Mamaearth</td>\n",
       "      <td>E-commerce</td>\n",
       "      <td>Retailer of baby and toddler products</td>\n",
       "      <td>Bengaluru</td>\n",
       "      <td>Sequoia Capital India</td>\n",
       "      <td>Series B</td>\n",
       "      <td>18358860.0</td>\n",
       "    </tr>\n",
       "    <tr>\n",
       "      <th>3</th>\n",
       "      <td>4</td>\n",
       "      <td>2020-02-01</td>\n",
       "      <td>https://www.wealthbucket.in/</td>\n",
       "      <td>FinTech</td>\n",
       "      <td>Online Investment</td>\n",
       "      <td>New Delhi</td>\n",
       "      <td>Vinod Khatumal</td>\n",
       "      <td>Pre-series A</td>\n",
       "      <td>3000000.0</td>\n",
       "    </tr>\n",
       "    <tr>\n",
       "      <th>4</th>\n",
       "      <td>5</td>\n",
       "      <td>2020-02-01</td>\n",
       "      <td>Fashor</td>\n",
       "      <td>Fashion and Apparel</td>\n",
       "      <td>Embroiled Clothes For Women</td>\n",
       "      <td>Mumbai</td>\n",
       "      <td>Sprout Venture Partners</td>\n",
       "      <td>Seed Round</td>\n",
       "      <td>1800000.0</td>\n",
       "    </tr>\n",
       "  </tbody>\n",
       "</table>\n",
       "</div>"
      ],
      "text/plain": [
       "   Sr No Date dd/mm/yyyy                  Startup Name    Industry Vertical  \\\n",
       "0      1      2020-09-01                        BYJU’S               E-Tech   \n",
       "1      2      2020-01-13                        Shuttl       Transportation   \n",
       "2      3      2020-09-01                     Mamaearth           E-commerce   \n",
       "3      4      2020-02-01  https://www.wealthbucket.in/              FinTech   \n",
       "4      5      2020-02-01                        Fashor  Fashion and Apparel   \n",
       "\n",
       "                             SubVertical City  Location  \\\n",
       "0                             E-learning      Bengaluru   \n",
       "1              App based shuttle service        Gurgaon   \n",
       "2  Retailer of baby and toddler products      Bengaluru   \n",
       "3                      Online Investment      New Delhi   \n",
       "4            Embroiled Clothes For Women         Mumbai   \n",
       "\n",
       "              Investors Name       InvestmentnType  Amount in USD  \n",
       "0    Tiger Global Management  Private Equity Round    200000000.0  \n",
       "1  Susquehanna Growth Equity              Series C      8048394.0  \n",
       "2      Sequoia Capital India              Series B     18358860.0  \n",
       "3             Vinod Khatumal          Pre-series A      3000000.0  \n",
       "4    Sprout Venture Partners            Seed Round      1800000.0  "
      ]
     },
     "execution_count": 59,
     "metadata": {},
     "output_type": "execute_result"
    }
   ],
   "source": [
    "startup_df.head()"
   ]
  },
  {
   "cell_type": "markdown",
   "metadata": {},
   "source": [
    "## Answer the questions\n",
    "__Unicorns data__\n",
    "- Number of unicorns by country, which country has the most unicorns.  \n",
    "- Which field has the most unicorns. Sort by company's value. Top 5 fields with the highest value.  \n",
    "- Which investors have ownership the most unicorns.  \n",
    "- The numbers of unicorns by years. Which years has the most unicorns.  \n",
    "- Statistics in Southeast Asia. \n",
    "\n",
    "__Startup data in India__  \n",
    "- Which field has the most unicorns in India. Is it similar to the trend of the world?  \n",
    "- The distribution of SubVertical.  \n",
    "- Subvertical distribution of top 3 Industry Vertical.  \n",
    "- Distribution of funding in India. \n",
    "- Startups, fields with potential for investment. \n",
    "- Amount invested over time.\n",
    "- Which startups have the most investment rounds in India."
   ]
  },
  {
   "cell_type": "markdown",
   "metadata": {},
   "source": [
    "## Data Processing"
   ]
  },
  {
   "cell_type": "markdown",
   "metadata": {},
   "source": [
    "__Unicorns data__"
   ]
  },
  {
   "cell_type": "markdown",
   "metadata": {},
   "source": [
    "Add new clolumns such as Investor_1, Investor_2,.. from Investor columns.  \n",
    "Handling data inconsistency such as ('.', ','), ('and', ','), Upper all of company name,.."
   ]
  },
  {
   "cell_type": "code",
   "execution_count": 60,
   "metadata": {},
   "outputs": [
    {
     "data": {
      "text/plain": [
       "Rank                                                          406\n",
       "Company                                                     Loggi\n",
       "Valuation ($B)                                                1.0\n",
       "Date Joined                                   2019-06-05 00:00:00\n",
       "Country                                                    Brazil\n",
       "Industry                      Supply chain, logistics, & delivery\n",
       "Select Investors    Qualcomm Ventures, SoftBank Group. Monashees+\n",
       "Name: 406, dtype: object"
      ]
     },
     "execution_count": 60,
     "metadata": {},
     "output_type": "execute_result"
    }
   ],
   "source": [
    "unicorn_df.iloc[406]"
   ]
  },
  {
   "cell_type": "code",
   "execution_count": 61,
   "metadata": {},
   "outputs": [],
   "source": [
    "unicorn_df.loc[unicorn_df['Rank'] == 406, 'Select Investors'] = 'Qualcomm Ventures, SoftBank Group, Monashees+'"
   ]
  },
  {
   "cell_type": "code",
   "execution_count": 62,
   "metadata": {},
   "outputs": [
    {
     "data": {
      "text/plain": [
       "Rank                                                                1\n",
       "Company                                                Didi Chuxing  \n",
       "Valuation ($B)                                                   56.0\n",
       "Date Joined                                       2014-12-31 00:00:00\n",
       "Country                                                         China\n",
       "Industry                                        Auto & transportation\n",
       "Select Investors    Matrix Partners, Tiger  Global Management, Sof...\n",
       "Name: 1, dtype: object"
      ]
     },
     "execution_count": 62,
     "metadata": {},
     "output_type": "execute_result"
    }
   ],
   "source": [
    "unicorn_df.iloc[1]"
   ]
  },
  {
   "cell_type": "code",
   "execution_count": 63,
   "metadata": {},
   "outputs": [],
   "source": [
    "unicorn_df.loc[unicorn_df['Rank'] == 1, 'Select Investors'] = 'Matrix Partners, Tiger  Global Management, Sofbank Corp.'"
   ]
  },
  {
   "cell_type": "code",
   "execution_count": 64,
   "metadata": {},
   "outputs": [],
   "source": [
    "unicorn_df = unicorn_df.replace('and','', regex=True)"
   ]
  },
  {
   "cell_type": "code",
   "execution_count": 66,
   "metadata": {},
   "outputs": [
    {
     "data": {
      "text/html": [
       "<div>\n",
       "<style scoped>\n",
       "    .dataframe tbody tr th:only-of-type {\n",
       "        vertical-align: middle;\n",
       "    }\n",
       "\n",
       "    .dataframe tbody tr th {\n",
       "        vertical-align: top;\n",
       "    }\n",
       "\n",
       "    .dataframe thead th {\n",
       "        text-align: right;\n",
       "    }\n",
       "</style>\n",
       "<table border=\"1\" class=\"dataframe\">\n",
       "  <thead>\n",
       "    <tr style=\"text-align: right;\">\n",
       "      <th></th>\n",
       "      <th>Rank</th>\n",
       "      <th>Company</th>\n",
       "      <th>Valuation ($B)</th>\n",
       "      <th>Date Joined</th>\n",
       "      <th>Country</th>\n",
       "      <th>Industry</th>\n",
       "      <th>Select Investors</th>\n",
       "    </tr>\n",
       "  </thead>\n",
       "  <tbody>\n",
       "    <tr>\n",
       "      <th>27</th>\n",
       "      <td>27</td>\n",
       "      <td>Roivant Sciences</td>\n",
       "      <td>9.09</td>\n",
       "      <td>2018-11-13</td>\n",
       "      <td>United States</td>\n",
       "      <td>Health</td>\n",
       "      <td>SoftBankGroup, Founders Fund</td>\n",
       "    </tr>\n",
       "    <tr>\n",
       "      <th>34</th>\n",
       "      <td>34</td>\n",
       "      <td>Snapdeal</td>\n",
       "      <td>7.00</td>\n",
       "      <td>2014-05-21</td>\n",
       "      <td>India</td>\n",
       "      <td>E-commerce &amp; direct-to-consumer</td>\n",
       "      <td>SoftBankGroup, Blackrock, Alibaba Group</td>\n",
       "    </tr>\n",
       "    <tr>\n",
       "      <th>35</th>\n",
       "      <td>35</td>\n",
       "      <td>Tokopedia</td>\n",
       "      <td>7.00</td>\n",
       "      <td>2018-12-12</td>\n",
       "      <td>Indonesia</td>\n",
       "      <td>E-commerce &amp; direct-to-consumer</td>\n",
       "      <td>SoftBankGroup, Alibaba Group, Sequoia Capital ...</td>\n",
       "    </tr>\n",
       "  </tbody>\n",
       "</table>\n",
       "</div>"
      ],
      "text/plain": [
       "    Rank           Company  Valuation ($B) Date Joined        Country  \\\n",
       "27    27  Roivant Sciences            9.09  2018-11-13  United States   \n",
       "34    34          Snapdeal            7.00  2014-05-21          India   \n",
       "35    35         Tokopedia            7.00  2018-12-12      Indonesia   \n",
       "\n",
       "                           Industry  \\\n",
       "27                           Health   \n",
       "34  E-commerce & direct-to-consumer   \n",
       "35  E-commerce & direct-to-consumer   \n",
       "\n",
       "                                     Select Investors  \n",
       "27                       SoftBankGroup, Founders Fund  \n",
       "34            SoftBankGroup, Blackrock, Alibaba Group  \n",
       "35  SoftBankGroup, Alibaba Group, Sequoia Capital ...  "
      ]
     },
     "execution_count": 66,
     "metadata": {},
     "output_type": "execute_result"
    }
   ],
   "source": [
    "unicorn_df[unicorn_df['Select Investors'].str.contains(\"SoftBankGroup\", na=False)]"
   ]
  },
  {
   "cell_type": "code",
   "execution_count": 69,
   "metadata": {},
   "outputs": [],
   "source": [
    "unicorn_df = unicorn_df.replace('SoftBankGroup', 'Sortbank Group', regex=True)"
   ]
  },
  {
   "cell_type": "code",
   "execution_count": 72,
   "metadata": {},
   "outputs": [
    {
     "data": {
      "text/html": [
       "<div>\n",
       "<style scoped>\n",
       "    .dataframe tbody tr th:only-of-type {\n",
       "        vertical-align: middle;\n",
       "    }\n",
       "\n",
       "    .dataframe tbody tr th {\n",
       "        vertical-align: top;\n",
       "    }\n",
       "\n",
       "    .dataframe thead th {\n",
       "        text-align: right;\n",
       "    }\n",
       "</style>\n",
       "<table border=\"1\" class=\"dataframe\">\n",
       "  <thead>\n",
       "    <tr style=\"text-align: right;\">\n",
       "      <th></th>\n",
       "      <th>0</th>\n",
       "      <th>1</th>\n",
       "      <th>2</th>\n",
       "      <th>3</th>\n",
       "    </tr>\n",
       "  </thead>\n",
       "  <tbody>\n",
       "    <tr>\n",
       "      <th>0</th>\n",
       "      <td>Sequoia Capital China</td>\n",
       "      <td>SIG Asia Investments</td>\n",
       "      <td>Sina Weibo</td>\n",
       "      <td>Softbank Group</td>\n",
       "    </tr>\n",
       "    <tr>\n",
       "      <th>1</th>\n",
       "      <td>Matrix Partners</td>\n",
       "      <td>Tiger Global Management</td>\n",
       "      <td>Sofbank Corp.</td>\n",
       "      <td>None</td>\n",
       "    </tr>\n",
       "    <tr>\n",
       "      <th>2</th>\n",
       "      <td>Founders Fund</td>\n",
       "      <td>Draper  Fisher Jurvetson</td>\n",
       "      <td>Rothenberg Ventures</td>\n",
       "      <td>None</td>\n",
       "    </tr>\n",
       "    <tr>\n",
       "      <th>3</th>\n",
       "      <td>Khosla Ventures</td>\n",
       "      <td>LowercaseCapital</td>\n",
       "      <td>capitalG</td>\n",
       "      <td>None</td>\n",
       "    </tr>\n",
       "    <tr>\n",
       "      <th>4</th>\n",
       "      <td>RRE Ventures</td>\n",
       "      <td>Founders  Fund</td>\n",
       "      <td>In-Q-Tel</td>\n",
       "      <td>None</td>\n",
       "    </tr>\n",
       "    <tr>\n",
       "      <th>...</th>\n",
       "      <td>...</td>\n",
       "      <td>...</td>\n",
       "      <td>...</td>\n",
       "      <td>...</td>\n",
       "    </tr>\n",
       "    <tr>\n",
       "      <th>467</th>\n",
       "      <td>Coty</td>\n",
       "      <td>None</td>\n",
       "      <td>None</td>\n",
       "      <td>None</td>\n",
       "    </tr>\n",
       "    <tr>\n",
       "      <th>468</th>\n",
       "      <td>Upper90</td>\n",
       "      <td>RiverPark Ventures</td>\n",
       "      <td>Advent International</td>\n",
       "      <td>None</td>\n",
       "    </tr>\n",
       "    <tr>\n",
       "      <th>469</th>\n",
       "      <td>WRVI Capital</td>\n",
       "      <td>Qualcomm Ventures</td>\n",
       "      <td>S-Cubed Capital</td>\n",
       "      <td>None</td>\n",
       "    </tr>\n",
       "    <tr>\n",
       "      <th>470</th>\n",
       "      <td>One Equity Partners</td>\n",
       "      <td>None</td>\n",
       "      <td>None</td>\n",
       "      <td>None</td>\n",
       "    </tr>\n",
       "    <tr>\n",
       "      <th>471</th>\n",
       "      <td>T. Rowe Price</td>\n",
       "      <td>Dragoneer Investment Group</td>\n",
       "      <td>BlackRock</td>\n",
       "      <td>None</td>\n",
       "    </tr>\n",
       "  </tbody>\n",
       "</table>\n",
       "<p>472 rows × 4 columns</p>\n",
       "</div>"
      ],
      "text/plain": [
       "                         0                            1  \\\n",
       "0    Sequoia Capital China         SIG Asia Investments   \n",
       "1          Matrix Partners      Tiger Global Management   \n",
       "2            Founders Fund     Draper  Fisher Jurvetson   \n",
       "3          Khosla Ventures             LowercaseCapital   \n",
       "4             RRE Ventures               Founders  Fund   \n",
       "..                     ...                          ...   \n",
       "467                   Coty                         None   \n",
       "468                Upper90           RiverPark Ventures   \n",
       "469           WRVI Capital            Qualcomm Ventures   \n",
       "470    One Equity Partners                         None   \n",
       "471          T. Rowe Price   Dragoneer Investment Group   \n",
       "\n",
       "                         2                3  \n",
       "0               Sina Weibo   Softbank Group  \n",
       "1            Sofbank Corp.             None  \n",
       "2      Rothenberg Ventures             None  \n",
       "3                 capitalG             None  \n",
       "4                 In-Q-Tel             None  \n",
       "..                     ...              ...  \n",
       "467                   None             None  \n",
       "468   Advent International             None  \n",
       "469        S-Cubed Capital             None  \n",
       "470                   None             None  \n",
       "471              BlackRock             None  \n",
       "\n",
       "[472 rows x 4 columns]"
      ]
     },
     "execution_count": 72,
     "metadata": {},
     "output_type": "execute_result"
    }
   ],
   "source": [
    "df = pd.concat([unicorn_df['Select Investors'].str.split(',', expand=True)], axis=1)\n",
    "df"
   ]
  },
  {
   "cell_type": "code",
   "execution_count": 78,
   "metadata": {},
   "outputs": [
    {
     "data": {
      "text/html": [
       "<div>\n",
       "<style scoped>\n",
       "    .dataframe tbody tr th:only-of-type {\n",
       "        vertical-align: middle;\n",
       "    }\n",
       "\n",
       "    .dataframe tbody tr th {\n",
       "        vertical-align: top;\n",
       "    }\n",
       "\n",
       "    .dataframe thead th {\n",
       "        text-align: right;\n",
       "    }\n",
       "</style>\n",
       "<table border=\"1\" class=\"dataframe\">\n",
       "  <thead>\n",
       "    <tr style=\"text-align: right;\">\n",
       "      <th></th>\n",
       "      <th>Rank</th>\n",
       "      <th>Company</th>\n",
       "      <th>Valuation ($B)</th>\n",
       "      <th>Date Joined</th>\n",
       "      <th>Country</th>\n",
       "      <th>Industry</th>\n",
       "      <th>Select Investors</th>\n",
       "      <th>Investor_1</th>\n",
       "      <th>Investor_2</th>\n",
       "      <th>Investor_3</th>\n",
       "      <th>Investor_4</th>\n",
       "    </tr>\n",
       "  </thead>\n",
       "  <tbody>\n",
       "    <tr>\n",
       "      <th>0</th>\n",
       "      <td>0</td>\n",
       "      <td>Toutiao (Bytedance)</td>\n",
       "      <td>140.0</td>\n",
       "      <td>2017-04-07</td>\n",
       "      <td>China</td>\n",
       "      <td>Artificial intelligence</td>\n",
       "      <td>Sequoia Capital China, SIG Asia Investments, S...</td>\n",
       "      <td>SEQUOIA CAPITAL CHINA</td>\n",
       "      <td>SIG ASIA INVESTMENTS</td>\n",
       "      <td>SINA WEIBO</td>\n",
       "      <td>SOFTBANK GROUP</td>\n",
       "    </tr>\n",
       "    <tr>\n",
       "      <th>1</th>\n",
       "      <td>1</td>\n",
       "      <td>Didi Chuxing</td>\n",
       "      <td>56.0</td>\n",
       "      <td>2014-12-31</td>\n",
       "      <td>China</td>\n",
       "      <td>Auto &amp; transportation</td>\n",
       "      <td>Matrix Partners, Tiger Global Management, Sofb...</td>\n",
       "      <td>MATRIX PARTNERS</td>\n",
       "      <td>TIGER GLOBAL MANAGEMENT</td>\n",
       "      <td>SOFBANK CORP.</td>\n",
       "      <td>None</td>\n",
       "    </tr>\n",
       "    <tr>\n",
       "      <th>2</th>\n",
       "      <td>2</td>\n",
       "      <td>SpaceX</td>\n",
       "      <td>46.0</td>\n",
       "      <td>2012-12-01</td>\n",
       "      <td>United States</td>\n",
       "      <td>Other</td>\n",
       "      <td>Founders Fund, Draper  Fisher Jurvetson, Rothe...</td>\n",
       "      <td>FOUNDERS FUND</td>\n",
       "      <td>DRAPER  FISHER JURVETSON</td>\n",
       "      <td>ROTHENBERG VENTURES</td>\n",
       "      <td>None</td>\n",
       "    </tr>\n",
       "    <tr>\n",
       "      <th>3</th>\n",
       "      <td>3</td>\n",
       "      <td>Stripe</td>\n",
       "      <td>36.0</td>\n",
       "      <td>2014-01-23</td>\n",
       "      <td>United States</td>\n",
       "      <td>Fintech</td>\n",
       "      <td>Khosla Ventures, LowercaseCapital, capitalG</td>\n",
       "      <td>KHOSLA VENTURES</td>\n",
       "      <td>LOWERCASECAPITAL</td>\n",
       "      <td>CAPITALG</td>\n",
       "      <td>None</td>\n",
       "    </tr>\n",
       "    <tr>\n",
       "      <th>4</th>\n",
       "      <td>4</td>\n",
       "      <td>Palantir Technologies</td>\n",
       "      <td>20.0</td>\n",
       "      <td>2011-05-05</td>\n",
       "      <td>United States</td>\n",
       "      <td>Data management &amp; analytics</td>\n",
       "      <td>RRE Ventures, Founders  Fund, In-Q-Tel</td>\n",
       "      <td>RRE VENTURES</td>\n",
       "      <td>FOUNDERS  FUND</td>\n",
       "      <td>IN-Q-TEL</td>\n",
       "      <td>None</td>\n",
       "    </tr>\n",
       "  </tbody>\n",
       "</table>\n",
       "</div>"
      ],
      "text/plain": [
       "   Rank                Company  Valuation ($B) Date Joined        Country  \\\n",
       "0     0    Toutiao (Bytedance)           140.0  2017-04-07          China   \n",
       "1     1         Didi Chuxing              56.0  2014-12-31          China   \n",
       "2     2                 SpaceX            46.0  2012-12-01  United States   \n",
       "3     3                 Stripe            36.0  2014-01-23  United States   \n",
       "4     4  Palantir Technologies            20.0  2011-05-05  United States   \n",
       "\n",
       "                      Industry  \\\n",
       "0      Artificial intelligence   \n",
       "1        Auto & transportation   \n",
       "2                        Other   \n",
       "3                      Fintech   \n",
       "4  Data management & analytics   \n",
       "\n",
       "                                    Select Investors             Investor_1  \\\n",
       "0  Sequoia Capital China, SIG Asia Investments, S...  SEQUOIA CAPITAL CHINA   \n",
       "1  Matrix Partners, Tiger Global Management, Sofb...        MATRIX PARTNERS   \n",
       "2  Founders Fund, Draper  Fisher Jurvetson, Rothe...          FOUNDERS FUND   \n",
       "3        Khosla Ventures, LowercaseCapital, capitalG        KHOSLA VENTURES   \n",
       "4             RRE Ventures, Founders  Fund, In-Q-Tel           RRE VENTURES   \n",
       "\n",
       "                 Investor_2           Investor_3      Investor_4  \n",
       "0      SIG ASIA INVESTMENTS           SINA WEIBO  SOFTBANK GROUP  \n",
       "1   TIGER GLOBAL MANAGEMENT        SOFBANK CORP.            None  \n",
       "2  DRAPER  FISHER JURVETSON  ROTHENBERG VENTURES            None  \n",
       "3          LOWERCASECAPITAL             CAPITALG            None  \n",
       "4            FOUNDERS  FUND             IN-Q-TEL            None  "
      ]
     },
     "execution_count": 78,
     "metadata": {},
     "output_type": "execute_result"
    }
   ],
   "source": [
    "df = pd.concat([unicorn_df['Select Investors'].str.split(',', expand=True)], axis=1)\n",
    "unicorn_df = unicorn_df.merge(df)\n",
    "unicorn_df = unicorn_df.rename(columns = {0:'Investor_1', 1: 'Investor_2', 2: 'Investor_3', 3: 'Investor_4'})\n",
    "unicorn_df['Investor_1'] = unicorn_df['Investor_1'].str.strip()\n",
    "unicorn_df['Investor_2'] = unicorn_df['Investor_2'].str.strip()\n",
    "unicorn_df['Investor_3'] = unicorn_df['Investor_3'].str.strip()\n",
    "unicorn_df['Investor_4'] = unicorn_df['Investor_4'].str.strip()\n",
    "\n",
    "unicorn_df['Investor_1'] = unicorn_df['Investor_1'].str.upper()\n",
    "unicorn_df['Investor_2'] = unicorn_df['Investor_2'].str.upper()\n",
    "unicorn_df['Investor_3'] = unicorn_df['Investor_3'].str.upper()\n",
    "unicorn_df['Investor_4'] = unicorn_df['Investor_4'].str.upper()\n",
    "unicorn_df.head()"
   ]
  },
  {
   "cell_type": "markdown",
   "metadata": {},
   "source": [
    "## Answer the questions\n",
    "__Unicorns data__\n",
    "- Number of unicorns by country, which country has the most unicorns.  \n",
    "- Which field has the most unicorns. Sort by company's value. Top 5 fields with the highest value.  \n",
    "- Which investors have ownership the most unicorns.  \n",
    "- The numbers of unicorns by years. Which years has the most unicorns.  \n",
    "- Statistics in Southeast Asia. "
   ]
  },
  {
   "cell_type": "markdown",
   "metadata": {},
   "source": [
    "__Number of unicorns by country, which country has the most unicorns?__"
   ]
  },
  {
   "cell_type": "code",
   "execution_count": 81,
   "metadata": {},
   "outputs": [
    {
     "data": {
      "image/png": "[encoded data removed]",
      "text/plain": [
       "<Figure size 1440x720 with 1 Axes>"
      ]
     },
     "metadata": {
      "needs_background": "light"
     },
     "output_type": "display_data"
    }
   ],
   "source": [
    "country_unicorns = unicorn_df['Country'].value_counts()\n",
    "plt.figure(figsize= (20,10))\n",
    "g = sns.barplot(x=country_unicorns.index, y=country_unicorns.values)\n",
    "g.set_xticklabels(g.get_xticklabels(), rotation=60)\n",
    "g.set_title(\"Unicorns Count\", fontsize=20)\n",
    "g.set_ylabel(\"Count\", fontsize=15)\n",
    "plt.show()"
   ]
  },
  {
   "cell_type": "markdown",
   "metadata": {},
   "source": [
    "As we can see:  \n",
    "- US is country with the most unicorns, Double the amount of China (2nd).  \n",
    "- UK ranked 3rd, Indian ranked 4th (much less than the number of unicorns in the US and China).  \n",
    "- 3 countries in Southeast Asia:  Indonesia, Singapore, Philippines."
   ]
  },
  {
   "cell_type": "markdown",
   "metadata": {},
   "source": [
    "__Which field has the most unicorns. Sort by company's value. Top 5 fields with the highest value.__  "
   ]
  },
  {
   "cell_type": "code",
   "execution_count": 84,
   "metadata": {},
   "outputs": [
    {
     "data": {
      "text/plain": [
       "Fintech                            62\n",
       "Internet software & services       58\n",
       "E-commerce & direct-to-consumer    57\n",
       "Artificial intelligence            46\n",
       "Health                             35\n",
       "Name: Industry, dtype: int64"
      ]
     },
     "execution_count": 84,
     "metadata": {},
     "output_type": "execute_result"
    }
   ],
   "source": [
    "category_unicorns = unicorn_df['Industry'].value_counts()\n",
    "category_unicorns[:5]"
   ]
  },
  {
   "cell_type": "code",
   "execution_count": 86,
   "metadata": {},
   "outputs": [
    {
     "data": {
      "image/png": "[encoded data removed]",
      "text/plain": [
       "<Figure size 1440x720 with 1 Axes>"
      ]
     },
     "metadata": {
      "needs_background": "light"
     },
     "output_type": "display_data"
    }
   ],
   "source": [
    "plt.figure(figsize = (20,10))\n",
    "\n",
    "g = sns.barplot(x=category_unicorns.index ,y=category_unicorns.values)\n",
    "g.set_xticklabels(g.get_xticklabels(),rotation=45)\n",
    "g.set_title(\"Unicorns Count\", fontsize=20)\n",
    "g.set_xlabel(\"\", fontsize=15)\n",
    "g.set_ylabel(\"Count\", fontsize=15)\n",
    "\n",
    "plt.show()"
   ]
  },
  {
   "cell_type": "markdown",
   "metadata": {},
   "source": [
    "__Top 5 fields with the highest value is:__  \n",
    "- Fintech  \n",
    "- Internet software and services  \n",
    "- E-commerce & direct-to-consumer  \n",
    "- Artificial intelligence  \n",
    "- Health"
   ]
  },
  {
   "cell_type": "markdown",
   "metadata": {},
   "source": [
    "This is startup trends of the world: Fintech. "
   ]
  },
  {
   "cell_type": "code",
   "execution_count": 87,
   "metadata": {},
   "outputs": [
    {
     "data": {
      "text/html": [
       "<div>\n",
       "<style scoped>\n",
       "    .dataframe tbody tr th:only-of-type {\n",
       "        vertical-align: middle;\n",
       "    }\n",
       "\n",
       "    .dataframe tbody tr th {\n",
       "        vertical-align: top;\n",
       "    }\n",
       "\n",
       "    .dataframe thead th {\n",
       "        text-align: right;\n",
       "    }\n",
       "</style>\n",
       "<table border=\"1\" class=\"dataframe\">\n",
       "  <thead>\n",
       "    <tr style=\"text-align: right;\">\n",
       "      <th></th>\n",
       "      <th>Rank</th>\n",
       "      <th>Company</th>\n",
       "      <th>Valuation ($B)</th>\n",
       "      <th>Date Joined</th>\n",
       "      <th>Country</th>\n",
       "      <th>Industry</th>\n",
       "      <th>Select Investors</th>\n",
       "      <th>Investor_1</th>\n",
       "      <th>Investor_2</th>\n",
       "      <th>Investor_3</th>\n",
       "      <th>Investor_4</th>\n",
       "    </tr>\n",
       "  </thead>\n",
       "  <tbody>\n",
       "    <tr>\n",
       "      <th>3</th>\n",
       "      <td>3</td>\n",
       "      <td>Stripe</td>\n",
       "      <td>36.0</td>\n",
       "      <td>2014-01-23</td>\n",
       "      <td>United States</td>\n",
       "      <td>Fintech</td>\n",
       "      <td>Khosla Ventures, LowercaseCapital, capitalG</td>\n",
       "      <td>KHOSLA VENTURES</td>\n",
       "      <td>LOWERCASECAPITAL</td>\n",
       "      <td>CAPITALG</td>\n",
       "      <td>None</td>\n",
       "    </tr>\n",
       "    <tr>\n",
       "      <th>8</th>\n",
       "      <td>8</td>\n",
       "      <td>One97 Communications</td>\n",
       "      <td>16.0</td>\n",
       "      <td>2015-05-12</td>\n",
       "      <td>India</td>\n",
       "      <td>Fintech</td>\n",
       "      <td>Intel Capital, Sapphire  Ventures, Alibaba Group</td>\n",
       "      <td>INTEL CAPITAL</td>\n",
       "      <td>SAPPHIRE  VENTURES</td>\n",
       "      <td>ALIBABA GROUP</td>\n",
       "      <td>None</td>\n",
       "    </tr>\n",
       "    <tr>\n",
       "      <th>19</th>\n",
       "      <td>19</td>\n",
       "      <td>Robinhood</td>\n",
       "      <td>11.2</td>\n",
       "      <td>2017-04-26</td>\n",
       "      <td>United States</td>\n",
       "      <td>Fintech</td>\n",
       "      <td>Google Ventures, Andreessen Horowitz, DST Global</td>\n",
       "      <td>GOOGLE VENTURES</td>\n",
       "      <td>ANDREESSEN HOROWITZ</td>\n",
       "      <td>DST GLOBAL</td>\n",
       "      <td>None</td>\n",
       "    </tr>\n",
       "    <tr>\n",
       "      <th>24</th>\n",
       "      <td>24</td>\n",
       "      <td>Nubank</td>\n",
       "      <td>10.0</td>\n",
       "      <td>2018-03-01</td>\n",
       "      <td>Brazil</td>\n",
       "      <td>Fintech</td>\n",
       "      <td>Sequoia Capital, Redpoint e.ventures, Kaszek V...</td>\n",
       "      <td>SEQUOIA CAPITAL</td>\n",
       "      <td>REDPOINT E.VENTURES</td>\n",
       "      <td>KASZEK VENTURES</td>\n",
       "      <td>None</td>\n",
       "    </tr>\n",
       "    <tr>\n",
       "      <th>26</th>\n",
       "      <td>26</td>\n",
       "      <td>Ripple</td>\n",
       "      <td>10.0</td>\n",
       "      <td>2019-12-20</td>\n",
       "      <td>United States</td>\n",
       "      <td>Fintech</td>\n",
       "      <td>IDG Capital, Venture51, Lightspeed Venture Par...</td>\n",
       "      <td>IDG CAPITAL</td>\n",
       "      <td>VENTURE51</td>\n",
       "      <td>LIGHTSPEED VENTURE PARTNERS</td>\n",
       "      <td>None</td>\n",
       "    </tr>\n",
       "  </tbody>\n",
       "</table>\n",
       "</div>"
      ],
      "text/plain": [
       "    Rank               Company  Valuation ($B) Date Joined        Country  \\\n",
       "3      3                Stripe            36.0  2014-01-23  United States   \n",
       "8      8  One97 Communications            16.0  2015-05-12          India   \n",
       "19    19             Robinhood            11.2  2017-04-26  United States   \n",
       "24    24                Nubank            10.0  2018-03-01         Brazil   \n",
       "26    26                Ripple            10.0  2019-12-20  United States   \n",
       "\n",
       "   Industry                                   Select Investors  \\\n",
       "3   Fintech        Khosla Ventures, LowercaseCapital, capitalG   \n",
       "8   Fintech   Intel Capital, Sapphire  Ventures, Alibaba Group   \n",
       "19  Fintech   Google Ventures, Andreessen Horowitz, DST Global   \n",
       "24  Fintech  Sequoia Capital, Redpoint e.ventures, Kaszek V...   \n",
       "26  Fintech  IDG Capital, Venture51, Lightspeed Venture Par...   \n",
       "\n",
       "         Investor_1           Investor_2                   Investor_3  \\\n",
       "3   KHOSLA VENTURES     LOWERCASECAPITAL                     CAPITALG   \n",
       "8     INTEL CAPITAL   SAPPHIRE  VENTURES                ALIBABA GROUP   \n",
       "19  GOOGLE VENTURES  ANDREESSEN HOROWITZ                   DST GLOBAL   \n",
       "24  SEQUOIA CAPITAL  REDPOINT E.VENTURES              KASZEK VENTURES   \n",
       "26      IDG CAPITAL            VENTURE51  LIGHTSPEED VENTURE PARTNERS   \n",
       "\n",
       "   Investor_4  \n",
       "3        None  \n",
       "8        None  \n",
       "19       None  \n",
       "24       None  \n",
       "26       None  "
      ]
     },
     "execution_count": 87,
     "metadata": {},
     "output_type": "execute_result"
    }
   ],
   "source": [
    "unicorn_df[unicorn_df['Industry'] == 'Fintech'].sort_values(by='Valuation ($B)', ascending=False).head(5)"
   ]
  },
  {
   "cell_type": "markdown",
   "metadata": {},
   "source": [
    "- There are 3 out of 5 unicorns of US.  \n",
    "- Top 2 is a unicorns in India."
   ]
  },
  {
   "cell_type": "code",
   "execution_count": 88,
   "metadata": {},
   "outputs": [
    {
     "data": {
      "text/html": [
       "<div>\n",
       "<style scoped>\n",
       "    .dataframe tbody tr th:only-of-type {\n",
       "        vertical-align: middle;\n",
       "    }\n",
       "\n",
       "    .dataframe tbody tr th {\n",
       "        vertical-align: top;\n",
       "    }\n",
       "\n",
       "    .dataframe thead th {\n",
       "        text-align: right;\n",
       "    }\n",
       "</style>\n",
       "<table border=\"1\" class=\"dataframe\">\n",
       "  <thead>\n",
       "    <tr style=\"text-align: right;\">\n",
       "      <th></th>\n",
       "      <th>Rank</th>\n",
       "      <th>Company</th>\n",
       "      <th>Valuation ($B)</th>\n",
       "      <th>Date Joined</th>\n",
       "      <th>Country</th>\n",
       "      <th>Industry</th>\n",
       "      <th>Select Investors</th>\n",
       "      <th>Investor_1</th>\n",
       "      <th>Investor_2</th>\n",
       "      <th>Investor_3</th>\n",
       "      <th>Investor_4</th>\n",
       "    </tr>\n",
       "  </thead>\n",
       "  <tbody>\n",
       "    <tr>\n",
       "      <th>46</th>\n",
       "      <td>46</td>\n",
       "      <td>Canva</td>\n",
       "      <td>6.0</td>\n",
       "      <td>2018-01-08</td>\n",
       "      <td>Australia</td>\n",
       "      <td>Internet software &amp; services</td>\n",
       "      <td>Sequoia Capital China, Blackbird Ventures, Mat...</td>\n",
       "      <td>SEQUOIA CAPITAL CHINA</td>\n",
       "      <td>BLACKBIRD VENTURES</td>\n",
       "      <td>MATRIX PARTNERS</td>\n",
       "      <td>None</td>\n",
       "    </tr>\n",
       "    <tr>\n",
       "      <th>51</th>\n",
       "      <td>51</td>\n",
       "      <td>Vice Media</td>\n",
       "      <td>5.7</td>\n",
       "      <td>2013-08-17</td>\n",
       "      <td>United States</td>\n",
       "      <td>Internet software &amp; services</td>\n",
       "      <td>Technology Crossover Ventures, A&amp;E Television ...</td>\n",
       "      <td>TECHNOLOGY CROSSOVER VENTURES</td>\n",
       "      <td>A&amp;E TELEVISION NETWORKS</td>\n",
       "      <td>None</td>\n",
       "      <td>None</td>\n",
       "    </tr>\n",
       "    <tr>\n",
       "      <th>56</th>\n",
       "      <td>56</td>\n",
       "      <td>HashiCorp</td>\n",
       "      <td>5.1</td>\n",
       "      <td>2018-11-01</td>\n",
       "      <td>United States</td>\n",
       "      <td>Internet software &amp; services</td>\n",
       "      <td>Redpoint Ventures, True Ventures, Mayfield Fund</td>\n",
       "      <td>REDPOINT VENTURES</td>\n",
       "      <td>TRUE VENTURES</td>\n",
       "      <td>MAYFIELD FUND</td>\n",
       "      <td>None</td>\n",
       "    </tr>\n",
       "    <tr>\n",
       "      <th>72</th>\n",
       "      <td>72</td>\n",
       "      <td>Roblox</td>\n",
       "      <td>4.0</td>\n",
       "      <td>2018-09-04</td>\n",
       "      <td>United States</td>\n",
       "      <td>Internet software &amp; services</td>\n",
       "      <td>Atlos Ventures, Index Ventures, First Round Ca...</td>\n",
       "      <td>ATLOS VENTURES</td>\n",
       "      <td>INDEX VENTURES</td>\n",
       "      <td>FIRST ROUND CAPITAL</td>\n",
       "      <td>None</td>\n",
       "    </tr>\n",
       "    <tr>\n",
       "      <th>86</th>\n",
       "      <td>86</td>\n",
       "      <td>Freshworks</td>\n",
       "      <td>3.5</td>\n",
       "      <td>2018-07-31</td>\n",
       "      <td>United States</td>\n",
       "      <td>Internet software &amp; services</td>\n",
       "      <td>Accel, Tiger Global Management, capitalG</td>\n",
       "      <td>ACCEL</td>\n",
       "      <td>TIGER GLOBAL MANAGEMENT</td>\n",
       "      <td>CAPITALG</td>\n",
       "      <td>None</td>\n",
       "    </tr>\n",
       "  </tbody>\n",
       "</table>\n",
       "</div>"
      ],
      "text/plain": [
       "    Rank     Company  Valuation ($B) Date Joined        Country  \\\n",
       "46    46       Canva             6.0  2018-01-08      Australia   \n",
       "51    51  Vice Media             5.7  2013-08-17  United States   \n",
       "56    56   HashiCorp             5.1  2018-11-01  United States   \n",
       "72    72      Roblox             4.0  2018-09-04  United States   \n",
       "86    86  Freshworks             3.5  2018-07-31  United States   \n",
       "\n",
       "                        Industry  \\\n",
       "46  Internet software & services   \n",
       "51  Internet software & services   \n",
       "56  Internet software & services   \n",
       "72  Internet software & services   \n",
       "86  Internet software & services   \n",
       "\n",
       "                                     Select Investors  \\\n",
       "46  Sequoia Capital China, Blackbird Ventures, Mat...   \n",
       "51  Technology Crossover Ventures, A&E Television ...   \n",
       "56    Redpoint Ventures, True Ventures, Mayfield Fund   \n",
       "72  Atlos Ventures, Index Ventures, First Round Ca...   \n",
       "86           Accel, Tiger Global Management, capitalG   \n",
       "\n",
       "                       Investor_1               Investor_2  \\\n",
       "46          SEQUOIA CAPITAL CHINA       BLACKBIRD VENTURES   \n",
       "51  TECHNOLOGY CROSSOVER VENTURES  A&E TELEVISION NETWORKS   \n",
       "56              REDPOINT VENTURES            TRUE VENTURES   \n",
       "72                 ATLOS VENTURES           INDEX VENTURES   \n",
       "86                          ACCEL  TIGER GLOBAL MANAGEMENT   \n",
       "\n",
       "             Investor_3 Investor_4  \n",
       "46      MATRIX PARTNERS       None  \n",
       "51                 None       None  \n",
       "56        MAYFIELD FUND       None  \n",
       "72  FIRST ROUND CAPITAL       None  \n",
       "86             CAPITALG       None  "
      ]
     },
     "execution_count": 88,
     "metadata": {},
     "output_type": "execute_result"
    }
   ],
   "source": [
    "unicorn_df[unicorn_df['Industry'] == 'Internet software & services'].sort_values(by='Valuation ($B)', ascending=False).head(5)"
   ]
  },
  {
   "cell_type": "code",
   "execution_count": 89,
   "metadata": {},
   "outputs": [
    {
     "data": {
      "text/html": [
       "<div>\n",
       "<style scoped>\n",
       "    .dataframe tbody tr th:only-of-type {\n",
       "        vertical-align: middle;\n",
       "    }\n",
       "\n",
       "    .dataframe tbody tr th {\n",
       "        vertical-align: top;\n",
       "    }\n",
       "\n",
       "    .dataframe thead th {\n",
       "        text-align: right;\n",
       "    }\n",
       "</style>\n",
       "<table border=\"1\" class=\"dataframe\">\n",
       "  <thead>\n",
       "    <tr style=\"text-align: right;\">\n",
       "      <th></th>\n",
       "      <th>Rank</th>\n",
       "      <th>Company</th>\n",
       "      <th>Valuation ($B)</th>\n",
       "      <th>Date Joined</th>\n",
       "      <th>Country</th>\n",
       "      <th>Industry</th>\n",
       "      <th>Select Investors</th>\n",
       "      <th>Investor_1</th>\n",
       "      <th>Investor_2</th>\n",
       "      <th>Investor_3</th>\n",
       "      <th>Investor_4</th>\n",
       "    </tr>\n",
       "  </thead>\n",
       "  <tbody>\n",
       "    <tr>\n",
       "      <th>11</th>\n",
       "      <td>11</td>\n",
       "      <td>SHEIN</td>\n",
       "      <td>15.0</td>\n",
       "      <td>2018-07-03</td>\n",
       "      <td>China</td>\n",
       "      <td>E-commerce &amp; direct-to-consumer</td>\n",
       "      <td>Tiger Global Management, Sequoia Capital China...</td>\n",
       "      <td>TIGER GLOBAL MANAGEMENT</td>\n",
       "      <td>SEQUOIA CAPITAL CHINA</td>\n",
       "      <td>SHUNWEI CAPITAL PARTNERS</td>\n",
       "      <td>None</td>\n",
       "    </tr>\n",
       "    <tr>\n",
       "      <th>18</th>\n",
       "      <td>18</td>\n",
       "      <td>Wish</td>\n",
       "      <td>11.2</td>\n",
       "      <td>2015-05-18</td>\n",
       "      <td>United States</td>\n",
       "      <td>E-commerce &amp; direct-to-consumer</td>\n",
       "      <td>Founders Fund, GGV Capital, Digital Sky Techno...</td>\n",
       "      <td>FOUNDERS FUND</td>\n",
       "      <td>GGV CAPITAL</td>\n",
       "      <td>DIGITAL SKY TECHNOLOGIES</td>\n",
       "      <td>None</td>\n",
       "    </tr>\n",
       "    <tr>\n",
       "      <th>29</th>\n",
       "      <td>29</td>\n",
       "      <td>Coupang</td>\n",
       "      <td>9.0</td>\n",
       "      <td>2014-05-28</td>\n",
       "      <td>South Korea</td>\n",
       "      <td>E-commerce &amp; direct-to-consumer</td>\n",
       "      <td>Sequoia Capital, Founder  Collective, Wellingt...</td>\n",
       "      <td>SEQUOIA CAPITAL</td>\n",
       "      <td>FOUNDER  COLLECTIVE</td>\n",
       "      <td>WELLINGTON MANAGEMENT</td>\n",
       "      <td>None</td>\n",
       "    </tr>\n",
       "    <tr>\n",
       "      <th>30</th>\n",
       "      <td>30</td>\n",
       "      <td>Guazi (Chehaoduo)</td>\n",
       "      <td>9.0</td>\n",
       "      <td>2016-03-12</td>\n",
       "      <td>China</td>\n",
       "      <td>E-commerce &amp; direct-to-consumer</td>\n",
       "      <td>Sequoia Capital China, GX Capital</td>\n",
       "      <td>SEQUOIA CAPITAL CHINA</td>\n",
       "      <td>GX CAPITAL</td>\n",
       "      <td>None</td>\n",
       "      <td>None</td>\n",
       "    </tr>\n",
       "    <tr>\n",
       "      <th>34</th>\n",
       "      <td>34</td>\n",
       "      <td>Snapdeal</td>\n",
       "      <td>7.0</td>\n",
       "      <td>2014-05-21</td>\n",
       "      <td>India</td>\n",
       "      <td>E-commerce &amp; direct-to-consumer</td>\n",
       "      <td>Sortbank Group, Blackrock, Alibaba Group</td>\n",
       "      <td>SORTBANK GROUP</td>\n",
       "      <td>BLACKROCK</td>\n",
       "      <td>ALIBABA GROUP</td>\n",
       "      <td>None</td>\n",
       "    </tr>\n",
       "  </tbody>\n",
       "</table>\n",
       "</div>"
      ],
      "text/plain": [
       "    Rank            Company  Valuation ($B) Date Joined        Country  \\\n",
       "11    11              SHEIN            15.0  2018-07-03          China   \n",
       "18    18               Wish            11.2  2015-05-18  United States   \n",
       "29    29            Coupang             9.0  2014-05-28    South Korea   \n",
       "30    30  Guazi (Chehaoduo)             9.0  2016-03-12          China   \n",
       "34    34           Snapdeal             7.0  2014-05-21          India   \n",
       "\n",
       "                           Industry  \\\n",
       "11  E-commerce & direct-to-consumer   \n",
       "18  E-commerce & direct-to-consumer   \n",
       "29  E-commerce & direct-to-consumer   \n",
       "30  E-commerce & direct-to-consumer   \n",
       "34  E-commerce & direct-to-consumer   \n",
       "\n",
       "                                     Select Investors  \\\n",
       "11  Tiger Global Management, Sequoia Capital China...   \n",
       "18  Founders Fund, GGV Capital, Digital Sky Techno...   \n",
       "29  Sequoia Capital, Founder  Collective, Wellingt...   \n",
       "30                  Sequoia Capital China, GX Capital   \n",
       "34           Sortbank Group, Blackrock, Alibaba Group   \n",
       "\n",
       "                 Investor_1             Investor_2                Investor_3  \\\n",
       "11  TIGER GLOBAL MANAGEMENT  SEQUOIA CAPITAL CHINA  SHUNWEI CAPITAL PARTNERS   \n",
       "18            FOUNDERS FUND            GGV CAPITAL  DIGITAL SKY TECHNOLOGIES   \n",
       "29          SEQUOIA CAPITAL    FOUNDER  COLLECTIVE     WELLINGTON MANAGEMENT   \n",
       "30    SEQUOIA CAPITAL CHINA             GX CAPITAL                      None   \n",
       "34           SORTBANK GROUP              BLACKROCK             ALIBABA GROUP   \n",
       "\n",
       "   Investor_4  \n",
       "11       None  \n",
       "18       None  \n",
       "29       None  \n",
       "30       None  \n",
       "34       None  "
      ]
     },
     "execution_count": 89,
     "metadata": {},
     "output_type": "execute_result"
    }
   ],
   "source": [
    "unicorn_df[unicorn_df['Industry'] == 'E-commerce & direct-to-consumer'].sort_values(by='Valuation ($B)', ascending=False).head(5)"
   ]
  },
  {
   "cell_type": "markdown",
   "metadata": {},
   "source": [
    "There are 2 unicorns in this industry of China.  \n",
    "Shopee, Lazada are technology company in e_commerce in Southeast Asia."
   ]
  },
  {
   "cell_type": "code",
   "execution_count": 91,
   "metadata": {},
   "outputs": [
    {
     "data": {
      "text/html": [
       "<div>\n",
       "<style scoped>\n",
       "    .dataframe tbody tr th:only-of-type {\n",
       "        vertical-align: middle;\n",
       "    }\n",
       "\n",
       "    .dataframe tbody tr th {\n",
       "        vertical-align: top;\n",
       "    }\n",
       "\n",
       "    .dataframe thead th {\n",
       "        text-align: right;\n",
       "    }\n",
       "</style>\n",
       "<table border=\"1\" class=\"dataframe\">\n",
       "  <thead>\n",
       "    <tr style=\"text-align: right;\">\n",
       "      <th></th>\n",
       "      <th>Rank</th>\n",
       "      <th>Company</th>\n",
       "      <th>Valuation ($B)</th>\n",
       "      <th>Date Joined</th>\n",
       "      <th>Country</th>\n",
       "      <th>Industry</th>\n",
       "      <th>Select Investors</th>\n",
       "      <th>Investor_1</th>\n",
       "      <th>Investor_2</th>\n",
       "      <th>Investor_3</th>\n",
       "      <th>Investor_4</th>\n",
       "    </tr>\n",
       "  </thead>\n",
       "  <tbody>\n",
       "    <tr>\n",
       "      <th>0</th>\n",
       "      <td>0</td>\n",
       "      <td>Toutiao (Bytedance)</td>\n",
       "      <td>140.00</td>\n",
       "      <td>2017-04-07</td>\n",
       "      <td>China</td>\n",
       "      <td>Artificial intelligence</td>\n",
       "      <td>Sequoia Capital China, SIG Asia Investments, S...</td>\n",
       "      <td>SEQUOIA CAPITAL CHINA</td>\n",
       "      <td>SIG ASIA INVESTMENTS</td>\n",
       "      <td>SINA WEIBO</td>\n",
       "      <td>SOFTBANK GROUP</td>\n",
       "    </tr>\n",
       "    <tr>\n",
       "      <th>22</th>\n",
       "      <td>22</td>\n",
       "      <td>UiPath</td>\n",
       "      <td>10.20</td>\n",
       "      <td>2018-03-02</td>\n",
       "      <td>United States</td>\n",
       "      <td>Artificial intelligence</td>\n",
       "      <td>Accel, capitalG, Earlybrid Venture Capital, Se...</td>\n",
       "      <td>ACCEL</td>\n",
       "      <td>CAPITALG</td>\n",
       "      <td>EARLYBRID VENTURE CAPITAL</td>\n",
       "      <td>SEEDCAMP</td>\n",
       "    </tr>\n",
       "    <tr>\n",
       "      <th>33</th>\n",
       "      <td>33</td>\n",
       "      <td>SenseTime</td>\n",
       "      <td>7.50</td>\n",
       "      <td>2017-07-11</td>\n",
       "      <td>China</td>\n",
       "      <td>Artificial intelligence</td>\n",
       "      <td>Star VC, IDG Capital, Infore Capital, Alibaba ...</td>\n",
       "      <td>STAR VC</td>\n",
       "      <td>IDG CAPITAL</td>\n",
       "      <td>INFORE CAPITAL</td>\n",
       "      <td>ALIBABA GROUP</td>\n",
       "    </tr>\n",
       "    <tr>\n",
       "      <th>36</th>\n",
       "      <td>36</td>\n",
       "      <td>Argo AI</td>\n",
       "      <td>7.25</td>\n",
       "      <td>2019-07-12</td>\n",
       "      <td>United States</td>\n",
       "      <td>Artificial intelligence</td>\n",
       "      <td>Volkswagen Group, Ford Autonomous Vehicles</td>\n",
       "      <td>VOLKSWAGEN GROUP</td>\n",
       "      <td>FORD AUTONOMOUS VEHICLES</td>\n",
       "      <td>None</td>\n",
       "      <td>None</td>\n",
       "    </tr>\n",
       "    <tr>\n",
       "      <th>37</th>\n",
       "      <td>37</td>\n",
       "      <td>Automation Anywhere</td>\n",
       "      <td>6.80</td>\n",
       "      <td>2018-07-02</td>\n",
       "      <td>United States</td>\n",
       "      <td>Artificial intelligence</td>\n",
       "      <td>General Atlantic, Goldman Sachs, New Enterpris...</td>\n",
       "      <td>GENERAL ATLANTIC</td>\n",
       "      <td>GOLDMAN SACHS</td>\n",
       "      <td>NEW ENTERPRISE ASSOCIATES</td>\n",
       "      <td>None</td>\n",
       "    </tr>\n",
       "  </tbody>\n",
       "</table>\n",
       "</div>"
      ],
      "text/plain": [
       "    Rank              Company  Valuation ($B) Date Joined        Country  \\\n",
       "0      0  Toutiao (Bytedance)          140.00  2017-04-07          China   \n",
       "22    22               UiPath           10.20  2018-03-02  United States   \n",
       "33    33            SenseTime            7.50  2017-07-11          China   \n",
       "36    36              Argo AI            7.25  2019-07-12  United States   \n",
       "37    37  Automation Anywhere            6.80  2018-07-02  United States   \n",
       "\n",
       "                   Industry  \\\n",
       "0   Artificial intelligence   \n",
       "22  Artificial intelligence   \n",
       "33  Artificial intelligence   \n",
       "36  Artificial intelligence   \n",
       "37  Artificial intelligence   \n",
       "\n",
       "                                     Select Investors             Investor_1  \\\n",
       "0   Sequoia Capital China, SIG Asia Investments, S...  SEQUOIA CAPITAL CHINA   \n",
       "22  Accel, capitalG, Earlybrid Venture Capital, Se...                  ACCEL   \n",
       "33  Star VC, IDG Capital, Infore Capital, Alibaba ...                STAR VC   \n",
       "36         Volkswagen Group, Ford Autonomous Vehicles       VOLKSWAGEN GROUP   \n",
       "37  General Atlantic, Goldman Sachs, New Enterpris...       GENERAL ATLANTIC   \n",
       "\n",
       "                  Investor_2                 Investor_3      Investor_4  \n",
       "0       SIG ASIA INVESTMENTS                 SINA WEIBO  SOFTBANK GROUP  \n",
       "22                  CAPITALG  EARLYBRID VENTURE CAPITAL        SEEDCAMP  \n",
       "33               IDG CAPITAL             INFORE CAPITAL   ALIBABA GROUP  \n",
       "36  FORD AUTONOMOUS VEHICLES                       None            None  \n",
       "37             GOLDMAN SACHS  NEW ENTERPRISE ASSOCIATES            None  "
      ]
     },
     "execution_count": 91,
     "metadata": {},
     "output_type": "execute_result"
    }
   ],
   "source": [
    "unicorn_df[unicorn_df['Industry'] == 'Artificial intelligence'].sort_values(by='Valuation ($B)', ascending=False).head(5)"
   ]
  },
  {
   "cell_type": "markdown",
   "metadata": {},
   "source": [
    "- Top 1 is Bytedance in China. Tiktok is one of product of Bytedance.  \n",
    "- Argo AI is an autonomous driving technology company.  \n",
    "- UIPath, Automation Anywhere are software company that makes robotic process automation software.  \n",
    "- SenseTime develops technologies including facial recognition, image recognition, object detection, optical character recognition, medical image analysis, video analysis, autonomous driving, and remote sensing."
   ]
  },
  {
   "cell_type": "code",
   "execution_count": 92,
   "metadata": {},
   "outputs": [
    {
     "data": {
      "text/html": [
       "<div>\n",
       "<style scoped>\n",
       "    .dataframe tbody tr th:only-of-type {\n",
       "        vertical-align: middle;\n",
       "    }\n",
       "\n",
       "    .dataframe tbody tr th {\n",
       "        vertical-align: top;\n",
       "    }\n",
       "\n",
       "    .dataframe thead th {\n",
       "        text-align: right;\n",
       "    }\n",
       "</style>\n",
       "<table border=\"1\" class=\"dataframe\">\n",
       "  <thead>\n",
       "    <tr style=\"text-align: right;\">\n",
       "      <th></th>\n",
       "      <th>Rank</th>\n",
       "      <th>Company</th>\n",
       "      <th>Valuation ($B)</th>\n",
       "      <th>Date Joined</th>\n",
       "      <th>Country</th>\n",
       "      <th>Industry</th>\n",
       "      <th>Select Investors</th>\n",
       "      <th>Investor_1</th>\n",
       "      <th>Investor_2</th>\n",
       "      <th>Investor_3</th>\n",
       "      <th>Investor_4</th>\n",
       "    </tr>\n",
       "  </thead>\n",
       "  <tbody>\n",
       "    <tr>\n",
       "      <th>17</th>\n",
       "      <td>17</td>\n",
       "      <td>Samumed</td>\n",
       "      <td>12.00</td>\n",
       "      <td>2018-08-06</td>\n",
       "      <td>United States</td>\n",
       "      <td>Health</td>\n",
       "      <td>Vickers Venture Partners, IKEA GreenTech</td>\n",
       "      <td>VICKERS VENTURE PARTNERS</td>\n",
       "      <td>IKEA GREENTECH</td>\n",
       "      <td>None</td>\n",
       "      <td>None</td>\n",
       "    </tr>\n",
       "    <tr>\n",
       "      <th>27</th>\n",
       "      <td>27</td>\n",
       "      <td>Roivant Sciences</td>\n",
       "      <td>9.09</td>\n",
       "      <td>2018-11-13</td>\n",
       "      <td>United States</td>\n",
       "      <td>Health</td>\n",
       "      <td>Sortbank Group, Founders Fund</td>\n",
       "      <td>SORTBANK GROUP</td>\n",
       "      <td>FOUNDERS FUND</td>\n",
       "      <td>None</td>\n",
       "      <td>None</td>\n",
       "    </tr>\n",
       "    <tr>\n",
       "      <th>53</th>\n",
       "      <td>53</td>\n",
       "      <td>GuaHao (We Doctor)</td>\n",
       "      <td>5.50</td>\n",
       "      <td>2015-09-22</td>\n",
       "      <td>China</td>\n",
       "      <td>Health</td>\n",
       "      <td>Tencent, Morningside Group</td>\n",
       "      <td>TENCENT</td>\n",
       "      <td>MORNINGSIDE GROUP</td>\n",
       "      <td>None</td>\n",
       "      <td>None</td>\n",
       "    </tr>\n",
       "    <tr>\n",
       "      <th>57</th>\n",
       "      <td>57</td>\n",
       "      <td>United Imaging Healthcare</td>\n",
       "      <td>5.00</td>\n",
       "      <td>2017-09-14</td>\n",
       "      <td>China</td>\n",
       "      <td>Health</td>\n",
       "      <td>China Life Insurance, China Development Bank C...</td>\n",
       "      <td>CHINA LIFE INSURANCE</td>\n",
       "      <td>CHINA DEVELOPMENT BANK CAPITAL</td>\n",
       "      <td>CITIC SECURITIES INTERNATIONAL</td>\n",
       "      <td>None</td>\n",
       "    </tr>\n",
       "    <tr>\n",
       "      <th>61</th>\n",
       "      <td>61</td>\n",
       "      <td>Tempus</td>\n",
       "      <td>5.00</td>\n",
       "      <td>2018-03-21</td>\n",
       "      <td>United States</td>\n",
       "      <td>Health</td>\n",
       "      <td>New Enterprise Associates, T. Rowe Associates,...</td>\n",
       "      <td>NEW ENTERPRISE ASSOCIATES</td>\n",
       "      <td>T. ROWE ASSOCIATES</td>\n",
       "      <td>LIGHTBANK</td>\n",
       "      <td>None</td>\n",
       "    </tr>\n",
       "  </tbody>\n",
       "</table>\n",
       "</div>"
      ],
      "text/plain": [
       "    Rank                    Company  Valuation ($B) Date Joined  \\\n",
       "17    17                    Samumed           12.00  2018-08-06   \n",
       "27    27           Roivant Sciences            9.09  2018-11-13   \n",
       "53    53         GuaHao (We Doctor)            5.50  2015-09-22   \n",
       "57    57  United Imaging Healthcare            5.00  2017-09-14   \n",
       "61    61                     Tempus            5.00  2018-03-21   \n",
       "\n",
       "          Country Industry                                   Select Investors  \\\n",
       "17  United States   Health           Vickers Venture Partners, IKEA GreenTech   \n",
       "27  United States   Health                      Sortbank Group, Founders Fund   \n",
       "53          China   Health                         Tencent, Morningside Group   \n",
       "57          China   Health  China Life Insurance, China Development Bank C...   \n",
       "61  United States   Health  New Enterprise Associates, T. Rowe Associates,...   \n",
       "\n",
       "                   Investor_1                      Investor_2  \\\n",
       "17   VICKERS VENTURE PARTNERS                  IKEA GREENTECH   \n",
       "27             SORTBANK GROUP                   FOUNDERS FUND   \n",
       "53                    TENCENT               MORNINGSIDE GROUP   \n",
       "57       CHINA LIFE INSURANCE  CHINA DEVELOPMENT BANK CAPITAL   \n",
       "61  NEW ENTERPRISE ASSOCIATES              T. ROWE ASSOCIATES   \n",
       "\n",
       "                        Investor_3 Investor_4  \n",
       "17                            None       None  \n",
       "27                            None       None  \n",
       "53                            None       None  \n",
       "57  CITIC SECURITIES INTERNATIONAL       None  \n",
       "61                       LIGHTBANK       None  "
      ]
     },
     "execution_count": 92,
     "metadata": {},
     "output_type": "execute_result"
    }
   ],
   "source": [
    "unicorn_df[unicorn_df['Industry'] == 'Health'].sort_values(by= 'Valuation ($B)', ascending=False).head(5)"
   ]
  },
  {
   "cell_type": "markdown",
   "metadata": {},
   "source": [
    "__Top 10 highest valued startups__"
   ]
  },
  {
   "cell_type": "code",
   "execution_count": 93,
   "metadata": {},
   "outputs": [
    {
     "data": {
      "text/html": [
       "<div>\n",
       "<style scoped>\n",
       "    .dataframe tbody tr th:only-of-type {\n",
       "        vertical-align: middle;\n",
       "    }\n",
       "\n",
       "    .dataframe tbody tr th {\n",
       "        vertical-align: top;\n",
       "    }\n",
       "\n",
       "    .dataframe thead th {\n",
       "        text-align: right;\n",
       "    }\n",
       "</style>\n",
       "<table border=\"1\" class=\"dataframe\">\n",
       "  <thead>\n",
       "    <tr style=\"text-align: right;\">\n",
       "      <th></th>\n",
       "      <th>Rank</th>\n",
       "      <th>Company</th>\n",
       "      <th>Valuation ($B)</th>\n",
       "      <th>Date Joined</th>\n",
       "      <th>Country</th>\n",
       "      <th>Industry</th>\n",
       "      <th>Select Investors</th>\n",
       "      <th>Investor_1</th>\n",
       "      <th>Investor_2</th>\n",
       "      <th>Investor_3</th>\n",
       "      <th>Investor_4</th>\n",
       "    </tr>\n",
       "  </thead>\n",
       "  <tbody>\n",
       "    <tr>\n",
       "      <th>0</th>\n",
       "      <td>0</td>\n",
       "      <td>Toutiao (Bytedance)</td>\n",
       "      <td>140.0</td>\n",
       "      <td>2017-04-07</td>\n",
       "      <td>China</td>\n",
       "      <td>Artificial intelligence</td>\n",
       "      <td>Sequoia Capital China, SIG Asia Investments, S...</td>\n",
       "      <td>SEQUOIA CAPITAL CHINA</td>\n",
       "      <td>SIG ASIA INVESTMENTS</td>\n",
       "      <td>SINA WEIBO</td>\n",
       "      <td>SOFTBANK GROUP</td>\n",
       "    </tr>\n",
       "    <tr>\n",
       "      <th>1</th>\n",
       "      <td>1</td>\n",
       "      <td>Didi Chuxing</td>\n",
       "      <td>56.0</td>\n",
       "      <td>2014-12-31</td>\n",
       "      <td>China</td>\n",
       "      <td>Auto &amp; transportation</td>\n",
       "      <td>Matrix Partners, Tiger Global Management, Sofb...</td>\n",
       "      <td>MATRIX PARTNERS</td>\n",
       "      <td>TIGER GLOBAL MANAGEMENT</td>\n",
       "      <td>SOFBANK CORP.</td>\n",
       "      <td>None</td>\n",
       "    </tr>\n",
       "    <tr>\n",
       "      <th>2</th>\n",
       "      <td>2</td>\n",
       "      <td>SpaceX</td>\n",
       "      <td>46.0</td>\n",
       "      <td>2012-12-01</td>\n",
       "      <td>United States</td>\n",
       "      <td>Other</td>\n",
       "      <td>Founders Fund, Draper  Fisher Jurvetson, Rothe...</td>\n",
       "      <td>FOUNDERS FUND</td>\n",
       "      <td>DRAPER  FISHER JURVETSON</td>\n",
       "      <td>ROTHENBERG VENTURES</td>\n",
       "      <td>None</td>\n",
       "    </tr>\n",
       "    <tr>\n",
       "      <th>3</th>\n",
       "      <td>3</td>\n",
       "      <td>Stripe</td>\n",
       "      <td>36.0</td>\n",
       "      <td>2014-01-23</td>\n",
       "      <td>United States</td>\n",
       "      <td>Fintech</td>\n",
       "      <td>Khosla Ventures, LowercaseCapital, capitalG</td>\n",
       "      <td>KHOSLA VENTURES</td>\n",
       "      <td>LOWERCASECAPITAL</td>\n",
       "      <td>CAPITALG</td>\n",
       "      <td>None</td>\n",
       "    </tr>\n",
       "    <tr>\n",
       "      <th>4</th>\n",
       "      <td>4</td>\n",
       "      <td>Palantir Technologies</td>\n",
       "      <td>20.0</td>\n",
       "      <td>2011-05-05</td>\n",
       "      <td>United States</td>\n",
       "      <td>Data management &amp; analytics</td>\n",
       "      <td>RRE Ventures, Founders  Fund, In-Q-Tel</td>\n",
       "      <td>RRE VENTURES</td>\n",
       "      <td>FOUNDERS  FUND</td>\n",
       "      <td>IN-Q-TEL</td>\n",
       "      <td>None</td>\n",
       "    </tr>\n",
       "    <tr>\n",
       "      <th>5</th>\n",
       "      <td>5</td>\n",
       "      <td>Airbnb</td>\n",
       "      <td>18.0</td>\n",
       "      <td>2011-07-26</td>\n",
       "      <td>United States</td>\n",
       "      <td>Travel</td>\n",
       "      <td>General Catalyst Partners,  Andreessen Horowit...</td>\n",
       "      <td>GENERAL CATALYST PARTNERS</td>\n",
       "      <td>ANDREESSEN HOROWITZ</td>\n",
       "      <td>ENIAC VENTURES</td>\n",
       "      <td>None</td>\n",
       "    </tr>\n",
       "    <tr>\n",
       "      <th>6</th>\n",
       "      <td>6</td>\n",
       "      <td>Kuaishou</td>\n",
       "      <td>18.0</td>\n",
       "      <td>2015-01-01</td>\n",
       "      <td>China</td>\n",
       "      <td>Mobile &amp; telecommunications</td>\n",
       "      <td>Morningside Venture Capital, Sequoia Capital, ...</td>\n",
       "      <td>MORNINGSIDE VENTURE CAPITAL</td>\n",
       "      <td>SEQUOIA CAPITAL</td>\n",
       "      <td>BAIDU</td>\n",
       "      <td>None</td>\n",
       "    </tr>\n",
       "    <tr>\n",
       "      <th>7</th>\n",
       "      <td>7</td>\n",
       "      <td>Epic Games</td>\n",
       "      <td>17.3</td>\n",
       "      <td>2018-10-26</td>\n",
       "      <td>United States</td>\n",
       "      <td>Other</td>\n",
       "      <td>Tencent Holdings, KKR, Smash Ventures</td>\n",
       "      <td>TENCENT HOLDINGS</td>\n",
       "      <td>KKR</td>\n",
       "      <td>SMASH VENTURES</td>\n",
       "      <td>None</td>\n",
       "    </tr>\n",
       "    <tr>\n",
       "      <th>8</th>\n",
       "      <td>8</td>\n",
       "      <td>One97 Communications</td>\n",
       "      <td>16.0</td>\n",
       "      <td>2015-05-12</td>\n",
       "      <td>India</td>\n",
       "      <td>Fintech</td>\n",
       "      <td>Intel Capital, Sapphire  Ventures, Alibaba Group</td>\n",
       "      <td>INTEL CAPITAL</td>\n",
       "      <td>SAPPHIRE  VENTURES</td>\n",
       "      <td>ALIBABA GROUP</td>\n",
       "      <td>None</td>\n",
       "    </tr>\n",
       "    <tr>\n",
       "      <th>9</th>\n",
       "      <td>9</td>\n",
       "      <td>DoorDash</td>\n",
       "      <td>16.0</td>\n",
       "      <td>2018-03-01</td>\n",
       "      <td>United States</td>\n",
       "      <td>Supply chain, logistics, &amp; delivery</td>\n",
       "      <td>Softbank Group, Sequoia Capital, Khosla Ventures</td>\n",
       "      <td>SOFTBANK GROUP</td>\n",
       "      <td>SEQUOIA CAPITAL</td>\n",
       "      <td>KHOSLA VENTURES</td>\n",
       "      <td>None</td>\n",
       "    </tr>\n",
       "  </tbody>\n",
       "</table>\n",
       "</div>"
      ],
      "text/plain": [
       "   Rank                Company  Valuation ($B) Date Joined        Country  \\\n",
       "0     0    Toutiao (Bytedance)           140.0  2017-04-07          China   \n",
       "1     1         Didi Chuxing              56.0  2014-12-31          China   \n",
       "2     2                 SpaceX            46.0  2012-12-01  United States   \n",
       "3     3                 Stripe            36.0  2014-01-23  United States   \n",
       "4     4  Palantir Technologies            20.0  2011-05-05  United States   \n",
       "5     5                 Airbnb            18.0  2011-07-26  United States   \n",
       "6     6               Kuaishou            18.0  2015-01-01          China   \n",
       "7     7             Epic Games            17.3  2018-10-26  United States   \n",
       "8     8   One97 Communications            16.0  2015-05-12          India   \n",
       "9     9               DoorDash            16.0  2018-03-01  United States   \n",
       "\n",
       "                              Industry  \\\n",
       "0              Artificial intelligence   \n",
       "1                Auto & transportation   \n",
       "2                                Other   \n",
       "3                              Fintech   \n",
       "4          Data management & analytics   \n",
       "5                               Travel   \n",
       "6          Mobile & telecommunications   \n",
       "7                                Other   \n",
       "8                              Fintech   \n",
       "9  Supply chain, logistics, & delivery   \n",
       "\n",
       "                                    Select Investors  \\\n",
       "0  Sequoia Capital China, SIG Asia Investments, S...   \n",
       "1  Matrix Partners, Tiger Global Management, Sofb...   \n",
       "2  Founders Fund, Draper  Fisher Jurvetson, Rothe...   \n",
       "3        Khosla Ventures, LowercaseCapital, capitalG   \n",
       "4             RRE Ventures, Founders  Fund, In-Q-Tel   \n",
       "5  General Catalyst Partners,  Andreessen Horowit...   \n",
       "6  Morningside Venture Capital, Sequoia Capital, ...   \n",
       "7              Tencent Holdings, KKR, Smash Ventures   \n",
       "8   Intel Capital, Sapphire  Ventures, Alibaba Group   \n",
       "9   Softbank Group, Sequoia Capital, Khosla Ventures   \n",
       "\n",
       "                    Investor_1                Investor_2           Investor_3  \\\n",
       "0        SEQUOIA CAPITAL CHINA      SIG ASIA INVESTMENTS           SINA WEIBO   \n",
       "1              MATRIX PARTNERS   TIGER GLOBAL MANAGEMENT        SOFBANK CORP.   \n",
       "2                FOUNDERS FUND  DRAPER  FISHER JURVETSON  ROTHENBERG VENTURES   \n",
       "3              KHOSLA VENTURES          LOWERCASECAPITAL             CAPITALG   \n",
       "4                 RRE VENTURES            FOUNDERS  FUND             IN-Q-TEL   \n",
       "5    GENERAL CATALYST PARTNERS       ANDREESSEN HOROWITZ       ENIAC VENTURES   \n",
       "6  MORNINGSIDE VENTURE CAPITAL           SEQUOIA CAPITAL                BAIDU   \n",
       "7             TENCENT HOLDINGS                       KKR       SMASH VENTURES   \n",
       "8                INTEL CAPITAL        SAPPHIRE  VENTURES        ALIBABA GROUP   \n",
       "9               SOFTBANK GROUP           SEQUOIA CAPITAL      KHOSLA VENTURES   \n",
       "\n",
       "       Investor_4  \n",
       "0  SOFTBANK GROUP  \n",
       "1            None  \n",
       "2            None  \n",
       "3            None  \n",
       "4            None  \n",
       "5            None  \n",
       "6            None  \n",
       "7            None  \n",
       "8            None  \n",
       "9            None  "
      ]
     },
     "execution_count": 93,
     "metadata": {},
     "output_type": "execute_result"
    }
   ],
   "source": [
    "unicorn_df.sort_values(by='Valuation ($B)', ascending=False).head(10)"
   ]
  },
  {
   "cell_type": "markdown",
   "metadata": {},
   "source": [
    "Create Log Normal Distribution"
   ]
  },
  {
   "cell_type": "code",
   "execution_count": 97,
   "metadata": {},
   "outputs": [
    {
     "data": {
      "text/html": [
       "<div>\n",
       "<style scoped>\n",
       "    .dataframe tbody tr th:only-of-type {\n",
       "        vertical-align: middle;\n",
       "    }\n",
       "\n",
       "    .dataframe tbody tr th {\n",
       "        vertical-align: top;\n",
       "    }\n",
       "\n",
       "    .dataframe thead th {\n",
       "        text-align: right;\n",
       "    }\n",
       "</style>\n",
       "<table border=\"1\" class=\"dataframe\">\n",
       "  <thead>\n",
       "    <tr style=\"text-align: right;\">\n",
       "      <th></th>\n",
       "      <th>Valuation ($B)</th>\n",
       "      <th>Valuation ($B) log</th>\n",
       "    </tr>\n",
       "  </thead>\n",
       "  <tbody>\n",
       "    <tr>\n",
       "      <th>0</th>\n",
       "      <td>140.0</td>\n",
       "      <td>4.948760</td>\n",
       "    </tr>\n",
       "    <tr>\n",
       "      <th>1</th>\n",
       "      <td>56.0</td>\n",
       "      <td>4.043051</td>\n",
       "    </tr>\n",
       "    <tr>\n",
       "      <th>2</th>\n",
       "      <td>46.0</td>\n",
       "      <td>3.850148</td>\n",
       "    </tr>\n",
       "    <tr>\n",
       "      <th>3</th>\n",
       "      <td>36.0</td>\n",
       "      <td>3.610918</td>\n",
       "    </tr>\n",
       "    <tr>\n",
       "      <th>4</th>\n",
       "      <td>20.0</td>\n",
       "      <td>3.044522</td>\n",
       "    </tr>\n",
       "  </tbody>\n",
       "</table>\n",
       "</div>"
      ],
      "text/plain": [
       "   Valuation ($B)  Valuation ($B) log\n",
       "0           140.0            4.948760\n",
       "1            56.0            4.043051\n",
       "2            46.0            3.850148\n",
       "3            36.0            3.610918\n",
       "4            20.0            3.044522"
      ]
     },
     "execution_count": 97,
     "metadata": {},
     "output_type": "execute_result"
    }
   ],
   "source": [
    "unicorn_df['Valuation ($B) log'] = np.log(unicorn_df['Valuation ($B)']+1)\n",
    "unicorn_df[['Valuation ($B)', 'Valuation ($B) log']].head()"
   ]
  },
  {
   "cell_type": "code",
   "execution_count": 101,
   "metadata": {},
   "outputs": [
    {
     "data": {
      "image/png": "[encoded data removed]",
      "text/plain": [
       "<Figure size 1440x720 with 1 Axes>"
      ]
     },
     "metadata": {
      "needs_background": "light"
     },
     "output_type": "display_data"
    }
   ],
   "source": [
    "plt.figure(figsize=(20,10))\n",
    "sns.distplot(unicorn_df['Valuation ($B) log'])\n",
    "plt.xlabel('log of Valuation', fontsize=12)\n",
    "plt.title(\"Log Hist of Valuation\", fontsize=16)\n",
    "plt.show()"
   ]
  },
  {
   "cell_type": "markdown",
   "metadata": {},
   "source": [
    "Some unicorns are much more valuable than others"
   ]
  },
  {
   "cell_type": "markdown",
   "metadata": {},
   "source": [
    "__Which investors have ownership the most unicorns?__"
   ]
  },
  {
   "cell_type": "markdown",
   "metadata": {},
   "source": [
    "Count the numbers of investors in 4 columns."
   ]
  },
  {
   "cell_type": "code",
   "execution_count": 103,
   "metadata": {},
   "outputs": [
    {
     "data": {
      "text/plain": [
       "SEQUOIA CAPITAL CHINA               30\n",
       "SEQUOIA CAPITAL                     25\n",
       "TENCENT HOLDINGS                    23\n",
       "SOFTBANK GROUP                      23\n",
       "ANDREESSEN HOROWITZ                 18\n",
       "NEW ENTERPRISE ASSOCIATES           18\n",
       "TIGER GLOBAL MANAGEMENT             17\n",
       "GENERAL ATLANTIC                    16\n",
       "GOLDMAN SACHS                       16\n",
       "IDG CAPITAL                         15\n",
       "GOOGLE VENTURES                     15\n",
       "KHOSLA VENTURES                     14\n",
       "ACCEL                               13\n",
       "BESSEMER VENTURE PARTNERS           12\n",
       "GREYLOCK PARTNERS                   12\n",
       "ALIBABA GROUP                       12\n",
       "LIGHTSPEED VENTURE PARTNERS         11\n",
       "QIMING VENTURE PARTNERS             11\n",
       "GGV CAPITAL                         10\n",
       "KKR                                 10\n",
       "DST GLOBAL                          10\n",
       "KLEINER PERKINS CAUFIELD & BYERS    10\n",
       "BATTERY VENTURES                    10\n",
       "INDEX VENTURES                      10\n",
       "dtype: int64"
      ]
     },
     "execution_count": 103,
     "metadata": {},
     "output_type": "execute_result"
    }
   ],
   "source": [
    "investor_unicorns = unicorn_df[['Investor_1', 'Investor_2', 'Investor_3', 'Investor_4']]\n",
    "count = pd.Series(investor_unicorns.values.ravel()).value_counts() #Series.ravel() function to return the underlying data of the given Series object as an ndarray.\n",
    "count = count[count.values >= 10]\n",
    "count"
   ]
  },
  {
   "cell_type": "code",
   "execution_count": 105,
   "metadata": {},
   "outputs": [
    {
     "data": {
      "image/png": "[encoded data removed]",
      "text/plain": [
       "<Figure size 1440x720 with 1 Axes>"
      ]
     },
     "metadata": {
      "needs_background": "light"
     },
     "output_type": "display_data"
    }
   ],
   "source": [
    "plt.figure(figsize = (20,10))\n",
    "\n",
    "g = sns.barplot(x=count.index ,y=count.values)\n",
    "g.set_xticklabels(g.get_xticklabels(),rotation=60)\n",
    "g.set_title(\"Investor count\", fontsize=20)\n",
    "g.set_xlabel(\"\", fontsize=15)\n",
    "g.set_ylabel(\"Count\", fontsize=15)\n",
    "\n",
    "plt.show()"
   ]
  },
  {
   "cell_type": "markdown",
   "metadata": {},
   "source": [
    "This bar chart shows investors with more than 10 unicorns"
   ]
  },
  {
   "cell_type": "code",
   "execution_count": 108,
   "metadata": {},
   "outputs": [
    {
     "data": {
      "text/plain": [
       "SOFTBANK GROUP                 2\n",
       "SEQUOIA CAPITAL                2\n",
       "KHOSLA VENTURES                2\n",
       "SEQUOIA CAPITAL CHINA          1\n",
       "IN-Q-TEL                       1\n",
       "SAPPHIRE  VENTURES             1\n",
       "INTEL CAPITAL                  1\n",
       "SMASH VENTURES                 1\n",
       "KKR                            1\n",
       "TENCENT HOLDINGS               1\n",
       "BAIDU                          1\n",
       "MORNINGSIDE VENTURE CAPITAL    1\n",
       "ENIAC VENTURES                 1\n",
       "ANDREESSEN HOROWITZ            1\n",
       "GENERAL CATALYST PARTNERS      1\n",
       "FOUNDERS  FUND                 1\n",
       "SIG ASIA INVESTMENTS           1\n",
       "RRE VENTURES                   1\n",
       "CAPITALG                       1\n",
       "LOWERCASECAPITAL               1\n",
       "ROTHENBERG VENTURES            1\n",
       "DRAPER  FISHER JURVETSON       1\n",
       "FOUNDERS FUND                  1\n",
       "SOFBANK CORP.                  1\n",
       "TIGER GLOBAL MANAGEMENT        1\n",
       "MATRIX PARTNERS                1\n",
       "SINA WEIBO                     1\n",
       "ALIBABA GROUP                  1\n",
       "dtype: int64"
      ]
     },
     "execution_count": 108,
     "metadata": {},
     "output_type": "execute_result"
    }
   ],
   "source": [
    "investor_top10_unicorns = unicorn_df[['Investor_1', 'Investor_2', 'Investor_3', 'Investor_4']].head(10)\n",
    "count = pd.Series(investor_top10_unicorns.values.ravel()).value_counts()\n",
    "count"
   ]
  },
  {
   "cell_type": "code",
   "execution_count": 109,
   "metadata": {},
   "outputs": [
    {
     "data": {
      "image/png": "[encoded data removed]",
      "text/plain": [
       "<Figure size 1440x720 with 1 Axes>"
      ]
     },
     "metadata": {
      "needs_background": "light"
     },
     "output_type": "display_data"
    }
   ],
   "source": [
    "plt.figure(figsize = (20,10))\n",
    "\n",
    "g = sns.barplot(x=count.index ,y=count.values)\n",
    "g.set_xticklabels(g.get_xticklabels(),rotation=60)\n",
    "g.set_title(\"Investor count\", fontsize=20)\n",
    "g.set_xlabel(\"\", fontsize=15)\n",
    "g.set_ylabel(\"Count\", fontsize=15)\n",
    "\n",
    "plt.show()"
   ]
  },
  {
   "cell_type": "markdown",
   "metadata": {},
   "source": [
    "This bar chart shows investors of top 10 unicorns."
   ]
  },
  {
   "cell_type": "markdown",
   "metadata": {},
   "source": [
    "__The numbers of unicorns by years. Which years has the most unicorns?__"
   ]
  },
  {
   "cell_type": "code",
   "execution_count": 112,
   "metadata": {},
   "outputs": [
    {
     "data": {
      "text/html": [
       "<div>\n",
       "<style scoped>\n",
       "    .dataframe tbody tr th:only-of-type {\n",
       "        vertical-align: middle;\n",
       "    }\n",
       "\n",
       "    .dataframe tbody tr th {\n",
       "        vertical-align: top;\n",
       "    }\n",
       "\n",
       "    .dataframe thead th {\n",
       "        text-align: right;\n",
       "    }\n",
       "</style>\n",
       "<table border=\"1\" class=\"dataframe\">\n",
       "  <thead>\n",
       "    <tr style=\"text-align: right;\">\n",
       "      <th></th>\n",
       "      <th>Rank</th>\n",
       "      <th>Company</th>\n",
       "      <th>Valuation ($B)</th>\n",
       "      <th>Date Joined</th>\n",
       "      <th>Country</th>\n",
       "      <th>Industry</th>\n",
       "      <th>Select Investors</th>\n",
       "      <th>Investor_1</th>\n",
       "      <th>Investor_2</th>\n",
       "      <th>Investor_3</th>\n",
       "      <th>Investor_4</th>\n",
       "      <th>Valuation ($B) log</th>\n",
       "      <th>Year</th>\n",
       "    </tr>\n",
       "  </thead>\n",
       "  <tbody>\n",
       "    <tr>\n",
       "      <th>0</th>\n",
       "      <td>0</td>\n",
       "      <td>Toutiao (Bytedance)</td>\n",
       "      <td>140.0</td>\n",
       "      <td>2017-04-07</td>\n",
       "      <td>China</td>\n",
       "      <td>Artificial intelligence</td>\n",
       "      <td>Sequoia Capital China, SIG Asia Investments, S...</td>\n",
       "      <td>SEQUOIA CAPITAL CHINA</td>\n",
       "      <td>SIG ASIA INVESTMENTS</td>\n",
       "      <td>SINA WEIBO</td>\n",
       "      <td>SOFTBANK GROUP</td>\n",
       "      <td>4.948760</td>\n",
       "      <td>2017</td>\n",
       "    </tr>\n",
       "    <tr>\n",
       "      <th>1</th>\n",
       "      <td>1</td>\n",
       "      <td>Didi Chuxing</td>\n",
       "      <td>56.0</td>\n",
       "      <td>2014-12-31</td>\n",
       "      <td>China</td>\n",
       "      <td>Auto &amp; transportation</td>\n",
       "      <td>Matrix Partners, Tiger Global Management, Sofb...</td>\n",
       "      <td>MATRIX PARTNERS</td>\n",
       "      <td>TIGER GLOBAL MANAGEMENT</td>\n",
       "      <td>SOFBANK CORP.</td>\n",
       "      <td>None</td>\n",
       "      <td>4.043051</td>\n",
       "      <td>2014</td>\n",
       "    </tr>\n",
       "    <tr>\n",
       "      <th>2</th>\n",
       "      <td>2</td>\n",
       "      <td>SpaceX</td>\n",
       "      <td>46.0</td>\n",
       "      <td>2012-12-01</td>\n",
       "      <td>United States</td>\n",
       "      <td>Other</td>\n",
       "      <td>Founders Fund, Draper  Fisher Jurvetson, Rothe...</td>\n",
       "      <td>FOUNDERS FUND</td>\n",
       "      <td>DRAPER  FISHER JURVETSON</td>\n",
       "      <td>ROTHENBERG VENTURES</td>\n",
       "      <td>None</td>\n",
       "      <td>3.850148</td>\n",
       "      <td>2012</td>\n",
       "    </tr>\n",
       "    <tr>\n",
       "      <th>3</th>\n",
       "      <td>3</td>\n",
       "      <td>Stripe</td>\n",
       "      <td>36.0</td>\n",
       "      <td>2014-01-23</td>\n",
       "      <td>United States</td>\n",
       "      <td>Fintech</td>\n",
       "      <td>Khosla Ventures, LowercaseCapital, capitalG</td>\n",
       "      <td>KHOSLA VENTURES</td>\n",
       "      <td>LOWERCASECAPITAL</td>\n",
       "      <td>CAPITALG</td>\n",
       "      <td>None</td>\n",
       "      <td>3.610918</td>\n",
       "      <td>2014</td>\n",
       "    </tr>\n",
       "    <tr>\n",
       "      <th>4</th>\n",
       "      <td>4</td>\n",
       "      <td>Palantir Technologies</td>\n",
       "      <td>20.0</td>\n",
       "      <td>2011-05-05</td>\n",
       "      <td>United States</td>\n",
       "      <td>Data management &amp; analytics</td>\n",
       "      <td>RRE Ventures, Founders  Fund, In-Q-Tel</td>\n",
       "      <td>RRE VENTURES</td>\n",
       "      <td>FOUNDERS  FUND</td>\n",
       "      <td>IN-Q-TEL</td>\n",
       "      <td>None</td>\n",
       "      <td>3.044522</td>\n",
       "      <td>2011</td>\n",
       "    </tr>\n",
       "  </tbody>\n",
       "</table>\n",
       "</div>"
      ],
      "text/plain": [
       "   Rank                Company  Valuation ($B) Date Joined        Country  \\\n",
       "0     0    Toutiao (Bytedance)           140.0  2017-04-07          China   \n",
       "1     1         Didi Chuxing              56.0  2014-12-31          China   \n",
       "2     2                 SpaceX            46.0  2012-12-01  United States   \n",
       "3     3                 Stripe            36.0  2014-01-23  United States   \n",
       "4     4  Palantir Technologies            20.0  2011-05-05  United States   \n",
       "\n",
       "                      Industry  \\\n",
       "0      Artificial intelligence   \n",
       "1        Auto & transportation   \n",
       "2                        Other   \n",
       "3                      Fintech   \n",
       "4  Data management & analytics   \n",
       "\n",
       "                                    Select Investors             Investor_1  \\\n",
       "0  Sequoia Capital China, SIG Asia Investments, S...  SEQUOIA CAPITAL CHINA   \n",
       "1  Matrix Partners, Tiger Global Management, Sofb...        MATRIX PARTNERS   \n",
       "2  Founders Fund, Draper  Fisher Jurvetson, Rothe...          FOUNDERS FUND   \n",
       "3        Khosla Ventures, LowercaseCapital, capitalG        KHOSLA VENTURES   \n",
       "4             RRE Ventures, Founders  Fund, In-Q-Tel           RRE VENTURES   \n",
       "\n",
       "                 Investor_2           Investor_3      Investor_4  \\\n",
       "0      SIG ASIA INVESTMENTS           SINA WEIBO  SOFTBANK GROUP   \n",
       "1   TIGER GLOBAL MANAGEMENT        SOFBANK CORP.            None   \n",
       "2  DRAPER  FISHER JURVETSON  ROTHENBERG VENTURES            None   \n",
       "3          LOWERCASECAPITAL             CAPITALG            None   \n",
       "4            FOUNDERS  FUND             IN-Q-TEL            None   \n",
       "\n",
       "   Valuation ($B) log  Year  \n",
       "0            4.948760  2017  \n",
       "1            4.043051  2014  \n",
       "2            3.850148  2012  \n",
       "3            3.610918  2014  \n",
       "4            3.044522  2011  "
      ]
     },
     "execution_count": 112,
     "metadata": {},
     "output_type": "execute_result"
    }
   ],
   "source": [
    "unicorn_df['Year'] = unicorn_df['Date Joined'].dt.year\n",
    "unicorn_df.head(5)"
   ]
  },
  {
   "cell_type": "code",
   "execution_count": 113,
   "metadata": {},
   "outputs": [
    {
     "data": {
      "image/png": "[encoded data removed]",
      "text/plain": [
       "<Figure size 1440x720 with 1 Axes>"
      ]
     },
     "metadata": {
      "needs_background": "light"
     },
     "output_type": "display_data"
    }
   ],
   "source": [
    "plt.figure(figsize = (20,10))\n",
    "\n",
    "sns.countplot(x='Year' ,data=unicorn_df)\n",
    "plt.title(\"Count frequency Date\", fontsize=15)\n",
    "plt.xlabel(\"\", fontsize=12)\n",
    "plt.ylabel(\"Date Counting\", fontsize=12)\n",
    "\n",
    "plt.show()"
   ]
  },
  {
   "cell_type": "markdown",
   "metadata": {},
   "source": [
    "The year 2018 and 2019 have the most unicorns"
   ]
  },
  {
   "cell_type": "markdown",
   "metadata": {},
   "source": [
    "__Unicorns in Southeast Asia__"
   ]
  },
  {
   "cell_type": "code",
   "execution_count": 120,
   "metadata": {},
   "outputs": [
    {
     "data": {
      "text/plain": [
       "Country\n",
       "Indonesia      5\n",
       "Philippines    1\n",
       "Singapore      3\n",
       "Name: Country, dtype: int64"
      ]
     },
     "execution_count": 120,
     "metadata": {},
     "output_type": "execute_result"
    }
   ],
   "source": [
    "unicorns_sea = unicorn_df[(unicorn_df['Country']=='Singapore') |\n",
    "\n",
    "                        (unicorn_df['Country']=='Indonesia') |\n",
    "                        (unicorn_df['Country']=='Philippines')]\n",
    "unicorns_sea.groupby('Country')['Country'].agg('count')                       "
   ]
  },
  {
   "cell_type": "code",
   "execution_count": 121,
   "metadata": {},
   "outputs": [
    {
     "data": {
      "text/html": [
       "<div>\n",
       "<style scoped>\n",
       "    .dataframe tbody tr th:only-of-type {\n",
       "        vertical-align: middle;\n",
       "    }\n",
       "\n",
       "    .dataframe tbody tr th {\n",
       "        vertical-align: top;\n",
       "    }\n",
       "\n",
       "    .dataframe thead th {\n",
       "        text-align: right;\n",
       "    }\n",
       "</style>\n",
       "<table border=\"1\" class=\"dataframe\">\n",
       "  <thead>\n",
       "    <tr style=\"text-align: right;\">\n",
       "      <th></th>\n",
       "      <th>Rank</th>\n",
       "      <th>Company</th>\n",
       "      <th>Valuation ($B)</th>\n",
       "      <th>Date Joined</th>\n",
       "      <th>Country</th>\n",
       "      <th>Industry</th>\n",
       "      <th>Select Investors</th>\n",
       "      <th>Investor_1</th>\n",
       "      <th>Investor_2</th>\n",
       "      <th>Investor_3</th>\n",
       "      <th>Investor_4</th>\n",
       "      <th>Valuation ($B) log</th>\n",
       "      <th>Year</th>\n",
       "    </tr>\n",
       "  </thead>\n",
       "  <tbody>\n",
       "    <tr>\n",
       "      <th>12</th>\n",
       "      <td>12</td>\n",
       "      <td>Grab</td>\n",
       "      <td>14.3</td>\n",
       "      <td>2014-12-04</td>\n",
       "      <td>Singapore</td>\n",
       "      <td>Auto &amp; transportation</td>\n",
       "      <td>GGV Capital, Vertex Venture Holdings, Softbank...</td>\n",
       "      <td>GGV CAPITAL</td>\n",
       "      <td>VERTEX VENTURE HOLDINGS</td>\n",
       "      <td>SOFTBANK GROUP</td>\n",
       "      <td>None</td>\n",
       "      <td>2.727853</td>\n",
       "      <td>2014</td>\n",
       "    </tr>\n",
       "    <tr>\n",
       "      <th>23</th>\n",
       "      <td>23</td>\n",
       "      <td>Go-Jek</td>\n",
       "      <td>10.0</td>\n",
       "      <td>2016-08-04</td>\n",
       "      <td>Indonesia</td>\n",
       "      <td>Supply chain, logistics, &amp; delivery</td>\n",
       "      <td>Formation Group, Sequoia Capital India, Warbur...</td>\n",
       "      <td>FORMATION GROUP</td>\n",
       "      <td>SEQUOIA CAPITAL INDIA</td>\n",
       "      <td>WARBURG PINCUS</td>\n",
       "      <td>None</td>\n",
       "      <td>2.397895</td>\n",
       "      <td>2016</td>\n",
       "    </tr>\n",
       "    <tr>\n",
       "      <th>35</th>\n",
       "      <td>35</td>\n",
       "      <td>Tokopedia</td>\n",
       "      <td>7.0</td>\n",
       "      <td>2018-12-12</td>\n",
       "      <td>Indonesia</td>\n",
       "      <td>E-commerce &amp; direct-to-consumer</td>\n",
       "      <td>Sortbank Group, Alibaba Group, Sequoia Capital...</td>\n",
       "      <td>SORTBANK GROUP</td>\n",
       "      <td>ALIBABA GROUP</td>\n",
       "      <td>SEQUOIA CAPITAL INDIA</td>\n",
       "      <td>None</td>\n",
       "      <td>2.079442</td>\n",
       "      <td>2018</td>\n",
       "    </tr>\n",
       "    <tr>\n",
       "      <th>87</th>\n",
       "      <td>87</td>\n",
       "      <td>HyalRoute</td>\n",
       "      <td>3.5</td>\n",
       "      <td>2020-05-26</td>\n",
       "      <td>Singapore</td>\n",
       "      <td>Mobile &amp; telecommunications</td>\n",
       "      <td>Kuang-Chi</td>\n",
       "      <td>KUANG-CHI</td>\n",
       "      <td>None</td>\n",
       "      <td>None</td>\n",
       "      <td>None</td>\n",
       "      <td>1.504077</td>\n",
       "      <td>2020</td>\n",
       "    </tr>\n",
       "    <tr>\n",
       "      <th>106</th>\n",
       "      <td>106</td>\n",
       "      <td>Traveloka</td>\n",
       "      <td>3.0</td>\n",
       "      <td>2017-07-28</td>\n",
       "      <td>Indonesia</td>\n",
       "      <td>Travel</td>\n",
       "      <td>Global Founders Capital, East Ventures, Expedi...</td>\n",
       "      <td>GLOBAL FOUNDERS CAPITAL</td>\n",
       "      <td>EAST VENTURES</td>\n",
       "      <td>EXPEDIA INC.</td>\n",
       "      <td>None</td>\n",
       "      <td>1.386294</td>\n",
       "      <td>2017</td>\n",
       "    </tr>\n",
       "    <tr>\n",
       "      <th>112</th>\n",
       "      <td>112</td>\n",
       "      <td>OVO</td>\n",
       "      <td>2.9</td>\n",
       "      <td>2019-03-14</td>\n",
       "      <td>Indonesia</td>\n",
       "      <td>Fintech</td>\n",
       "      <td>Grab, Tokopedia, Tokyo Century Corporation</td>\n",
       "      <td>GRAB</td>\n",
       "      <td>TOKOPEDIA</td>\n",
       "      <td>TOKYO CENTURY CORPORATION</td>\n",
       "      <td>None</td>\n",
       "      <td>1.360977</td>\n",
       "      <td>2019</td>\n",
       "    </tr>\n",
       "    <tr>\n",
       "      <th>130</th>\n",
       "      <td>130</td>\n",
       "      <td>Bukalapak</td>\n",
       "      <td>2.5</td>\n",
       "      <td>2017-11-16</td>\n",
       "      <td>Indonesia</td>\n",
       "      <td>E-commerce &amp; direct-to-consumer</td>\n",
       "      <td>500 Startups, Batavia Incubator, Emtek Group</td>\n",
       "      <td>500 STARTUPS</td>\n",
       "      <td>BATAVIA INCUBATOR</td>\n",
       "      <td>EMTEK GROUP</td>\n",
       "      <td>None</td>\n",
       "      <td>1.252763</td>\n",
       "      <td>2017</td>\n",
       "    </tr>\n",
       "    <tr>\n",
       "      <th>258</th>\n",
       "      <td>255</td>\n",
       "      <td>Trax</td>\n",
       "      <td>1.3</td>\n",
       "      <td>2019-07-22</td>\n",
       "      <td>Singapore</td>\n",
       "      <td>Artificial intelligence</td>\n",
       "      <td>Hopu Investment Management, Boyu Capital, DC T...</td>\n",
       "      <td>HOPU INVESTMENT MANAGEMENT</td>\n",
       "      <td>BOYU CAPITAL</td>\n",
       "      <td>DC THOMSON VENTURES</td>\n",
       "      <td>None</td>\n",
       "      <td>0.832909</td>\n",
       "      <td>2019</td>\n",
       "    </tr>\n",
       "    <tr>\n",
       "      <th>366</th>\n",
       "      <td>362</td>\n",
       "      <td>Revolution Precrafted</td>\n",
       "      <td>1.0</td>\n",
       "      <td>2017-10-23</td>\n",
       "      <td>Philippines</td>\n",
       "      <td>Other</td>\n",
       "      <td>K2 Global, 500 Startups</td>\n",
       "      <td>K2 GLOBAL</td>\n",
       "      <td>500 STARTUPS</td>\n",
       "      <td>None</td>\n",
       "      <td>None</td>\n",
       "      <td>0.693147</td>\n",
       "      <td>2017</td>\n",
       "    </tr>\n",
       "  </tbody>\n",
       "</table>\n",
       "</div>"
      ],
      "text/plain": [
       "     Rank                Company  Valuation ($B) Date Joined      Country  \\\n",
       "12     12                   Grab            14.3  2014-12-04    Singapore   \n",
       "23     23                 Go-Jek            10.0  2016-08-04    Indonesia   \n",
       "35     35              Tokopedia             7.0  2018-12-12    Indonesia   \n",
       "87     87              HyalRoute             3.5  2020-05-26    Singapore   \n",
       "106   106              Traveloka             3.0  2017-07-28    Indonesia   \n",
       "112   112                    OVO             2.9  2019-03-14    Indonesia   \n",
       "130   130              Bukalapak             2.5  2017-11-16    Indonesia   \n",
       "258   255                   Trax             1.3  2019-07-22    Singapore   \n",
       "366   362  Revolution Precrafted             1.0  2017-10-23  Philippines   \n",
       "\n",
       "                                Industry  \\\n",
       "12                 Auto & transportation   \n",
       "23   Supply chain, logistics, & delivery   \n",
       "35       E-commerce & direct-to-consumer   \n",
       "87           Mobile & telecommunications   \n",
       "106                               Travel   \n",
       "112                              Fintech   \n",
       "130      E-commerce & direct-to-consumer   \n",
       "258              Artificial intelligence   \n",
       "366                                Other   \n",
       "\n",
       "                                      Select Investors  \\\n",
       "12   GGV Capital, Vertex Venture Holdings, Softbank...   \n",
       "23   Formation Group, Sequoia Capital India, Warbur...   \n",
       "35   Sortbank Group, Alibaba Group, Sequoia Capital...   \n",
       "87                                           Kuang-Chi   \n",
       "106  Global Founders Capital, East Ventures, Expedi...   \n",
       "112         Grab, Tokopedia, Tokyo Century Corporation   \n",
       "130       500 Startups, Batavia Incubator, Emtek Group   \n",
       "258  Hopu Investment Management, Boyu Capital, DC T...   \n",
       "366                            K2 Global, 500 Startups   \n",
       "\n",
       "                     Investor_1               Investor_2  \\\n",
       "12                  GGV CAPITAL  VERTEX VENTURE HOLDINGS   \n",
       "23              FORMATION GROUP    SEQUOIA CAPITAL INDIA   \n",
       "35               SORTBANK GROUP            ALIBABA GROUP   \n",
       "87                    KUANG-CHI                     None   \n",
       "106     GLOBAL FOUNDERS CAPITAL            EAST VENTURES   \n",
       "112                        GRAB                TOKOPEDIA   \n",
       "130                500 STARTUPS        BATAVIA INCUBATOR   \n",
       "258  HOPU INVESTMENT MANAGEMENT             BOYU CAPITAL   \n",
       "366                   K2 GLOBAL             500 STARTUPS   \n",
       "\n",
       "                    Investor_3 Investor_4  Valuation ($B) log  Year  \n",
       "12              SOFTBANK GROUP       None            2.727853  2014  \n",
       "23              WARBURG PINCUS       None            2.397895  2016  \n",
       "35       SEQUOIA CAPITAL INDIA       None            2.079442  2018  \n",
       "87                        None       None            1.504077  2020  \n",
       "106               EXPEDIA INC.       None            1.386294  2017  \n",
       "112  TOKYO CENTURY CORPORATION       None            1.360977  2019  \n",
       "130                EMTEK GROUP       None            1.252763  2017  \n",
       "258        DC THOMSON VENTURES       None            0.832909  2019  \n",
       "366                       None       None            0.693147  2017  "
      ]
     },
     "execution_count": 121,
     "metadata": {},
     "output_type": "execute_result"
    }
   ],
   "source": [
    "unicorns_sea"
   ]
  },
  {
   "cell_type": "markdown",
   "metadata": {},
   "source": [
    "- Indonesia is a country with the most unicorns in Southeast Asia.  \n",
    "- Grab and Go-Jek is the highest valued unicorns in Southeast Asia.\n"
   ]
  },
  {
   "cell_type": "markdown",
   "metadata": {},
   "source": [
    "__Startups in India__  \n",
    "- Which field has the most unicorns in India. Is it similar to the trend of the world?  \n",
    "- The distribution of SubVertical.  \n",
    "- Subvertical distribution of top 3 Industry Vertical.  \n",
    "- Distribution of funding in India. \n",
    "- Startups, fields with potential for investment. \n",
    "- Amount invested over time.\n",
    "- Which startups have the most investment rounds in India."
   ]
  },
  {
   "cell_type": "markdown",
   "metadata": {},
   "source": [
    "__Which field has the most unicorns in India. Is it similar to the trend of the world?__  "
   ]
  },
  {
   "cell_type": "code",
   "execution_count": 124,
   "metadata": {},
   "outputs": [
    {
     "data": {
      "text/html": [
       "<div>\n",
       "<style scoped>\n",
       "    .dataframe tbody tr th:only-of-type {\n",
       "        vertical-align: middle;\n",
       "    }\n",
       "\n",
       "    .dataframe tbody tr th {\n",
       "        vertical-align: top;\n",
       "    }\n",
       "\n",
       "    .dataframe thead th {\n",
       "        text-align: right;\n",
       "    }\n",
       "</style>\n",
       "<table border=\"1\" class=\"dataframe\">\n",
       "  <thead>\n",
       "    <tr style=\"text-align: right;\">\n",
       "      <th></th>\n",
       "      <th>Sr No</th>\n",
       "      <th>Date dd/mm/yyyy</th>\n",
       "      <th>Startup Name</th>\n",
       "      <th>Industry Vertical</th>\n",
       "      <th>SubVertical</th>\n",
       "      <th>City  Location</th>\n",
       "      <th>Investors Name</th>\n",
       "      <th>InvestmentnType</th>\n",
       "      <th>Amount in USD</th>\n",
       "    </tr>\n",
       "  </thead>\n",
       "  <tbody>\n",
       "    <tr>\n",
       "      <th>0</th>\n",
       "      <td>1</td>\n",
       "      <td>2020-09-01</td>\n",
       "      <td>BYJU’S</td>\n",
       "      <td>E-Tech</td>\n",
       "      <td>E-learning</td>\n",
       "      <td>Bengaluru</td>\n",
       "      <td>Tiger Global Management</td>\n",
       "      <td>Private Equity Round</td>\n",
       "      <td>200000000.0</td>\n",
       "    </tr>\n",
       "    <tr>\n",
       "      <th>1</th>\n",
       "      <td>2</td>\n",
       "      <td>2020-01-13</td>\n",
       "      <td>Shuttl</td>\n",
       "      <td>Transportation</td>\n",
       "      <td>App based shuttle service</td>\n",
       "      <td>Gurgaon</td>\n",
       "      <td>Susquehanna Growth Equity</td>\n",
       "      <td>Series C</td>\n",
       "      <td>8048394.0</td>\n",
       "    </tr>\n",
       "    <tr>\n",
       "      <th>2</th>\n",
       "      <td>3</td>\n",
       "      <td>2020-09-01</td>\n",
       "      <td>Mamaearth</td>\n",
       "      <td>E-commerce</td>\n",
       "      <td>Retailer of baby and toddler products</td>\n",
       "      <td>Bengaluru</td>\n",
       "      <td>Sequoia Capital India</td>\n",
       "      <td>Series B</td>\n",
       "      <td>18358860.0</td>\n",
       "    </tr>\n",
       "    <tr>\n",
       "      <th>3</th>\n",
       "      <td>4</td>\n",
       "      <td>2020-02-01</td>\n",
       "      <td>https://www.wealthbucket.in/</td>\n",
       "      <td>FinTech</td>\n",
       "      <td>Online Investment</td>\n",
       "      <td>New Delhi</td>\n",
       "      <td>Vinod Khatumal</td>\n",
       "      <td>Pre-series A</td>\n",
       "      <td>3000000.0</td>\n",
       "    </tr>\n",
       "    <tr>\n",
       "      <th>4</th>\n",
       "      <td>5</td>\n",
       "      <td>2020-02-01</td>\n",
       "      <td>Fashor</td>\n",
       "      <td>Fashion and Apparel</td>\n",
       "      <td>Embroiled Clothes For Women</td>\n",
       "      <td>Mumbai</td>\n",
       "      <td>Sprout Venture Partners</td>\n",
       "      <td>Seed Round</td>\n",
       "      <td>1800000.0</td>\n",
       "    </tr>\n",
       "  </tbody>\n",
       "</table>\n",
       "</div>"
      ],
      "text/plain": [
       "   Sr No Date dd/mm/yyyy                  Startup Name    Industry Vertical  \\\n",
       "0      1      2020-09-01                        BYJU’S               E-Tech   \n",
       "1      2      2020-01-13                        Shuttl       Transportation   \n",
       "2      3      2020-09-01                     Mamaearth           E-commerce   \n",
       "3      4      2020-02-01  https://www.wealthbucket.in/              FinTech   \n",
       "4      5      2020-02-01                        Fashor  Fashion and Apparel   \n",
       "\n",
       "                             SubVertical City  Location  \\\n",
       "0                             E-learning      Bengaluru   \n",
       "1              App based shuttle service        Gurgaon   \n",
       "2  Retailer of baby and toddler products      Bengaluru   \n",
       "3                      Online Investment      New Delhi   \n",
       "4            Embroiled Clothes For Women         Mumbai   \n",
       "\n",
       "              Investors Name       InvestmentnType  Amount in USD  \n",
       "0    Tiger Global Management  Private Equity Round    200000000.0  \n",
       "1  Susquehanna Growth Equity              Series C      8048394.0  \n",
       "2      Sequoia Capital India              Series B     18358860.0  \n",
       "3             Vinod Khatumal          Pre-series A      3000000.0  \n",
       "4    Sprout Venture Partners            Seed Round      1800000.0  "
      ]
     },
     "execution_count": 124,
     "metadata": {},
     "output_type": "execute_result"
    }
   ],
   "source": [
    "startup_df.head()"
   ]
  },
  {
   "cell_type": "code",
   "execution_count": 126,
   "metadata": {},
   "outputs": [
    {
     "data": {
      "text/plain": [
       "Consumer Internet                        941\n",
       "Technology                               478\n",
       "eCommerce                                186\n",
       "Healthcare                                70\n",
       "Finance                                   62\n",
       "                                        ... \n",
       "Developer Portfolio Showcase platform      1\n",
       "Doctors Network Mobile App                 1\n",
       "End-to-End Lending platform                1\n",
       "on-demand healthcare marketplace           1\n",
       "Online Travel Marketplace                  1\n",
       "Name: Industry Vertical, Length: 821, dtype: int64"
      ]
     },
     "execution_count": 126,
     "metadata": {},
     "output_type": "execute_result"
    }
   ],
   "source": [
    "industry = startup_df['Industry Vertical'].value_counts()\n",
    "industry"
   ]
  },
  {
   "cell_type": "code",
   "execution_count": 128,
   "metadata": {},
   "outputs": [
    {
     "data": {
      "text/plain": [
       "Consumer Internet                941\n",
       "Technology                       478\n",
       "eCommerce                        186\n",
       "Healthcare                        70\n",
       "Finance                           62\n",
       "ECommerce                         61\n",
       "Logistics                         32\n",
       "E-Commerce                        29\n",
       "Education                         24\n",
       "Food & Beverage                   23\n",
       "Ed-Tech                           14\n",
       "E-commerce                        12\n",
       "FinTech                            9\n",
       "IT                                 8\n",
       "Ecommerce                          8\n",
       "Fin-Tech                           6\n",
       "Others                             6\n",
       "Real Estate                        6\n",
       "Food and Beverage                  6\n",
       "Health and Wellness                5\n",
       "Logistics Tech                     5\n",
       "Online Food Delivery               5\n",
       "Online Education Platform          5\n",
       "Transportation                     4\n",
       "Transport                          4\n",
       "Social Media                       3\n",
       "Automobile                         3\n",
       "FMCG                               3\n",
       "Food                               3\n",
       "Services                           3\n",
       "EdTech                             3\n",
       "ecommerce                          3\n",
       "Food & Beverages                   3\n",
       "Big Data & Analytics platform      3\n",
       "Food and Beverages                 3\n",
       "Information Technology             3\n",
       "Hyperlocal Handyman Services       3\n",
       "SaaS                               3\n",
       "Food Delivery Platform             3\n",
       "Name: Industry Vertical, dtype: int64"
      ]
     },
     "execution_count": 128,
     "metadata": {},
     "output_type": "execute_result"
    }
   ],
   "source": [
    "industry[industry.values >=3]"
   ]
  },
  {
   "cell_type": "markdown",
   "metadata": {},
   "source": [
    "=> Categorial is not out of sync yet. (eComerce, Ecomerce, E-commerce, E-Commerce), (FinTech, Fin-Tech), (Food & Beverage, Food and Beverage, Food and Beverages, Food & Beverages), (Transport, Transportation), (Information, IT), (Ed-Tech, EdTech), (Logistics Tech, Logistics)"
   ]
  },
  {
   "cell_type": "code",
   "execution_count": 129,
   "metadata": {},
   "outputs": [],
   "source": [
    "#E-commerce\n",
    "startup_df = startup_df.replace('eCommerce', 'E-commerce', regex=True)\n",
    "startup_df = startup_df.replace('ECommerce', 'E-commerce', regex=True)\n",
    "startup_df = startup_df.replace('Ecommerce', 'E-commerce', regex=True)\n",
    "startup_df = startup_df.replace('ecommerce', 'E-commerce', regex=True)\n",
    "\n",
    "#FinTech\n",
    "startup_df = startup_df.replace('Fin-Tech', 'FinTech', regex=True)\n",
    "#Food & Baverage\n",
    "\n",
    "startup_df = startup_df.replace('Food & Beverage','Food & Beverage', regex=True)\n",
    "startup_df = startup_df.replace('Food and Beverage','Food & Beverage', regex=True)\n",
    "startup_df = startup_df.replace('Food and Beverages','Food & Beverage', regex=True)\n",
    "startup_df = startup_df.replace('Food & Beverages','Food & Beverage', regex=True)\n",
    "\n",
    "# Transport\n",
    "startup_df = startup_df.replace('Transportation','Transport', regex=True)\n",
    "startup_df = startup_df.replace('Transport','Transport', regex=True)\n",
    "\n",
    "# Information Technology\n",
    "startup_df = startup_df.replace('IT','Information Technology', regex=True)\n",
    "\n",
    "# Ed-Tech\n",
    "startup_df = startup_df.replace('Ed-Tech','EdTech', regex=True)\n",
    "\n",
    "# Logistics\n",
    "startup_df = startup_df.replace('Logistics Tech','Logistics', regex=True)"
   ]
  },
  {
   "cell_type": "code",
   "execution_count": 131,
   "metadata": {},
   "outputs": [
    {
     "data": {
      "text/plain": [
       "Consumer Internet            941\n",
       "Technology                   478\n",
       "E-commerce                   270\n",
       "Healthcare                    70\n",
       "Finance                       62\n",
       "Logistics                     37\n",
       "Food & Beverage               35\n",
       "E-Commerce                    29\n",
       "Education                     24\n",
       "EdTech                        17\n",
       "FinTech                       15\n",
       "Information Technology        11\n",
       "Transport                      8\n",
       "Real Estate                    6\n",
       "Others                         6\n",
       "Online Education Platform      5\n",
       "Health and Wellness            5\n",
       "Online Food Delivery           5\n",
       "Name: Industry Vertical, dtype: int64"
      ]
     },
     "execution_count": 131,
     "metadata": {},
     "output_type": "execute_result"
    }
   ],
   "source": [
    "industry = startup_df['Industry Vertical'].value_counts()\n",
    "industry = industry[industry.values >=4]\n",
    "industry"
   ]
  }
 ],
 "metadata": {
  "kernelspec": {
   "display_name": "Python 3.9.5 64-bit",
   "language": "python",
   "name": "python3"
  },
  "language_info": {
   "codemirror_mode": {
    "name": "ipython",
    "version": 3
   },
   "file_extension": ".py",
   "mimetype": "text/x-python",
   "name": "python",
   "nbconvert_exporter": "python",
   "pygments_lexer": "ipython3",
   "version": "3.9.5"
  },
  "orig_nbformat": 4,
  "vscode": {
   "interpreter": {
    "hash": "f9a2183a959a16bb7b367f5be2dc4515885f715f13e4a8518dbc64860e566ec8"
   }
  }
 },
 "nbformat": 4,
 "nbformat_minor": 2
}
